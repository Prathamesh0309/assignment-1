{
 "cells": [
  {
   "cell_type": "code",
   "execution_count": 2,
   "metadata": {},
   "outputs": [],
   "source": [
    "import sqlite3\n",
    "import numpy as np\n",
    "import pandas as pd\n",
    "%matplotlib notebook\n",
    "import matplotlib.pyplot as plt\n",
    "import xgboost as xgb\n",
    "from xgboost.sklearn import XGBRegressor\n",
    "from xgboost import plot_importance\n",
    "\n",
    "from sklearn.linear_model import LinearRegression\n",
    "from sklearn.tree import DecisionTreeRegressor\n",
    "from sklearn.ensemble import RandomForestRegressor\n",
    "from sklearn.impute import SimpleImputer \n",
    "from sklearn.preprocessing import StandardScaler\n",
    "from sklearn.feature_selection import SelectFromModel\n",
    "from sklearn.model_selection import train_test_split, GridSearchCV, ShuffleSplit, RandomizedSearchCV\n",
    "from sklearn.pipeline import make_pipeline\n",
    "\n",
    "import pickle"
   ]
  },
  {
   "cell_type": "markdown",
   "metadata": {},
   "source": [
    "Reading Data from the Database into pandas"
   ]
  },
  {
   "cell_type": "code",
   "execution_count": 3,
   "metadata": {},
   "outputs": [],
   "source": [
    "cnx = sqlite3.connect('database.sqlite')\n",
    "df = pd.read_sql_query(\"SELECT * FROM Player_Attributes\", cnx)"
   ]
  },
  {
   "cell_type": "code",
   "execution_count": 4,
   "metadata": {},
   "outputs": [
    {
     "name": "stdout",
     "output_type": "stream",
     "text": [
      "            id  player_fifa_api_id  player_api_id                 date  \\\n",
      "0            1              218353         505942  2016-02-18 00:00:00   \n",
      "1            2              218353         505942  2015-11-19 00:00:00   \n",
      "2            3              218353         505942  2015-09-21 00:00:00   \n",
      "3            4              218353         505942  2015-03-20 00:00:00   \n",
      "4            5              218353         505942  2007-02-22 00:00:00   \n",
      "...        ...                 ...            ...                  ...   \n",
      "183973  183974              102359          39902  2009-08-30 00:00:00   \n",
      "183974  183975              102359          39902  2009-02-22 00:00:00   \n",
      "183975  183976              102359          39902  2008-08-30 00:00:00   \n",
      "183976  183977              102359          39902  2007-08-30 00:00:00   \n",
      "183977  183978              102359          39902  2007-02-22 00:00:00   \n",
      "\n",
      "        overall_rating  potential preferred_foot attacking_work_rate  \\\n",
      "0                 67.0       71.0          right              medium   \n",
      "1                 67.0       71.0          right              medium   \n",
      "2                 62.0       66.0          right              medium   \n",
      "3                 61.0       65.0          right              medium   \n",
      "4                 61.0       65.0          right              medium   \n",
      "...                ...        ...            ...                 ...   \n",
      "183973            83.0       85.0          right              medium   \n",
      "183974            78.0       80.0          right              medium   \n",
      "183975            77.0       80.0          right              medium   \n",
      "183976            78.0       81.0          right              medium   \n",
      "183977            80.0       81.0          right              medium   \n",
      "\n",
      "       defensive_work_rate  crossing  ...  vision  penalties  marking  \\\n",
      "0                   medium      49.0  ...    54.0       48.0     65.0   \n",
      "1                   medium      49.0  ...    54.0       48.0     65.0   \n",
      "2                   medium      49.0  ...    54.0       48.0     65.0   \n",
      "3                   medium      48.0  ...    53.0       47.0     62.0   \n",
      "4                   medium      48.0  ...    53.0       47.0     62.0   \n",
      "...                    ...       ...  ...     ...        ...      ...   \n",
      "183973                 low      84.0  ...    88.0       83.0     22.0   \n",
      "183974                 low      74.0  ...    88.0       70.0     32.0   \n",
      "183975                 low      74.0  ...    88.0       70.0     32.0   \n",
      "183976                 low      74.0  ...    88.0       53.0     28.0   \n",
      "183977                 low      74.0  ...    88.0       53.0     38.0   \n",
      "\n",
      "        standing_tackle  sliding_tackle  gk_diving  gk_handling  gk_kicking  \\\n",
      "0                  69.0            69.0        6.0         11.0        10.0   \n",
      "1                  69.0            69.0        6.0         11.0        10.0   \n",
      "2                  66.0            69.0        6.0         11.0        10.0   \n",
      "3                  63.0            66.0        5.0         10.0         9.0   \n",
      "4                  63.0            66.0        5.0         10.0         9.0   \n",
      "...                 ...             ...        ...          ...         ...   \n",
      "183973             31.0            30.0        9.0         20.0        84.0   \n",
      "183974             31.0            30.0        9.0         20.0        73.0   \n",
      "183975             31.0            30.0        9.0         20.0        73.0   \n",
      "183976             32.0            30.0        9.0         20.0        73.0   \n",
      "183977             32.0            30.0        9.0          9.0        78.0   \n",
      "\n",
      "        gk_positioning  gk_reflexes  \n",
      "0                  8.0          8.0  \n",
      "1                  8.0          8.0  \n",
      "2                  8.0          8.0  \n",
      "3                  7.0          7.0  \n",
      "4                  7.0          7.0  \n",
      "...                ...          ...  \n",
      "183973            20.0         20.0  \n",
      "183974            20.0         20.0  \n",
      "183975            20.0         20.0  \n",
      "183976            20.0         20.0  \n",
      "183977             7.0         15.0  \n",
      "\n",
      "[183978 rows x 42 columns]\n"
     ]
    }
   ],
   "source": [
    "print(df)"
   ]
  },
  {
   "cell_type": "code",
   "execution_count": 5,
   "metadata": {},
   "outputs": [
    {
     "data": {
      "text/html": [
       "<div>\n",
       "<style scoped>\n",
       "    .dataframe tbody tr th:only-of-type {\n",
       "        vertical-align: middle;\n",
       "    }\n",
       "\n",
       "    .dataframe tbody tr th {\n",
       "        vertical-align: top;\n",
       "    }\n",
       "\n",
       "    .dataframe thead th {\n",
       "        text-align: right;\n",
       "    }\n",
       "</style>\n",
       "<table border=\"1\" class=\"dataframe\">\n",
       "  <thead>\n",
       "    <tr style=\"text-align: right;\">\n",
       "      <th></th>\n",
       "      <th>id</th>\n",
       "      <th>player_fifa_api_id</th>\n",
       "      <th>player_api_id</th>\n",
       "      <th>date</th>\n",
       "      <th>overall_rating</th>\n",
       "      <th>potential</th>\n",
       "      <th>preferred_foot</th>\n",
       "      <th>attacking_work_rate</th>\n",
       "      <th>defensive_work_rate</th>\n",
       "      <th>crossing</th>\n",
       "      <th>...</th>\n",
       "      <th>vision</th>\n",
       "      <th>penalties</th>\n",
       "      <th>marking</th>\n",
       "      <th>standing_tackle</th>\n",
       "      <th>sliding_tackle</th>\n",
       "      <th>gk_diving</th>\n",
       "      <th>gk_handling</th>\n",
       "      <th>gk_kicking</th>\n",
       "      <th>gk_positioning</th>\n",
       "      <th>gk_reflexes</th>\n",
       "    </tr>\n",
       "  </thead>\n",
       "  <tbody>\n",
       "    <tr>\n",
       "      <th>0</th>\n",
       "      <td>1</td>\n",
       "      <td>218353</td>\n",
       "      <td>505942</td>\n",
       "      <td>2016-02-18 00:00:00</td>\n",
       "      <td>67.0</td>\n",
       "      <td>71.0</td>\n",
       "      <td>right</td>\n",
       "      <td>medium</td>\n",
       "      <td>medium</td>\n",
       "      <td>49.0</td>\n",
       "      <td>...</td>\n",
       "      <td>54.0</td>\n",
       "      <td>48.0</td>\n",
       "      <td>65.0</td>\n",
       "      <td>69.0</td>\n",
       "      <td>69.0</td>\n",
       "      <td>6.0</td>\n",
       "      <td>11.0</td>\n",
       "      <td>10.0</td>\n",
       "      <td>8.0</td>\n",
       "      <td>8.0</td>\n",
       "    </tr>\n",
       "    <tr>\n",
       "      <th>1</th>\n",
       "      <td>2</td>\n",
       "      <td>218353</td>\n",
       "      <td>505942</td>\n",
       "      <td>2015-11-19 00:00:00</td>\n",
       "      <td>67.0</td>\n",
       "      <td>71.0</td>\n",
       "      <td>right</td>\n",
       "      <td>medium</td>\n",
       "      <td>medium</td>\n",
       "      <td>49.0</td>\n",
       "      <td>...</td>\n",
       "      <td>54.0</td>\n",
       "      <td>48.0</td>\n",
       "      <td>65.0</td>\n",
       "      <td>69.0</td>\n",
       "      <td>69.0</td>\n",
       "      <td>6.0</td>\n",
       "      <td>11.0</td>\n",
       "      <td>10.0</td>\n",
       "      <td>8.0</td>\n",
       "      <td>8.0</td>\n",
       "    </tr>\n",
       "    <tr>\n",
       "      <th>2</th>\n",
       "      <td>3</td>\n",
       "      <td>218353</td>\n",
       "      <td>505942</td>\n",
       "      <td>2015-09-21 00:00:00</td>\n",
       "      <td>62.0</td>\n",
       "      <td>66.0</td>\n",
       "      <td>right</td>\n",
       "      <td>medium</td>\n",
       "      <td>medium</td>\n",
       "      <td>49.0</td>\n",
       "      <td>...</td>\n",
       "      <td>54.0</td>\n",
       "      <td>48.0</td>\n",
       "      <td>65.0</td>\n",
       "      <td>66.0</td>\n",
       "      <td>69.0</td>\n",
       "      <td>6.0</td>\n",
       "      <td>11.0</td>\n",
       "      <td>10.0</td>\n",
       "      <td>8.0</td>\n",
       "      <td>8.0</td>\n",
       "    </tr>\n",
       "    <tr>\n",
       "      <th>3</th>\n",
       "      <td>4</td>\n",
       "      <td>218353</td>\n",
       "      <td>505942</td>\n",
       "      <td>2015-03-20 00:00:00</td>\n",
       "      <td>61.0</td>\n",
       "      <td>65.0</td>\n",
       "      <td>right</td>\n",
       "      <td>medium</td>\n",
       "      <td>medium</td>\n",
       "      <td>48.0</td>\n",
       "      <td>...</td>\n",
       "      <td>53.0</td>\n",
       "      <td>47.0</td>\n",
       "      <td>62.0</td>\n",
       "      <td>63.0</td>\n",
       "      <td>66.0</td>\n",
       "      <td>5.0</td>\n",
       "      <td>10.0</td>\n",
       "      <td>9.0</td>\n",
       "      <td>7.0</td>\n",
       "      <td>7.0</td>\n",
       "    </tr>\n",
       "    <tr>\n",
       "      <th>4</th>\n",
       "      <td>5</td>\n",
       "      <td>218353</td>\n",
       "      <td>505942</td>\n",
       "      <td>2007-02-22 00:00:00</td>\n",
       "      <td>61.0</td>\n",
       "      <td>65.0</td>\n",
       "      <td>right</td>\n",
       "      <td>medium</td>\n",
       "      <td>medium</td>\n",
       "      <td>48.0</td>\n",
       "      <td>...</td>\n",
       "      <td>53.0</td>\n",
       "      <td>47.0</td>\n",
       "      <td>62.0</td>\n",
       "      <td>63.0</td>\n",
       "      <td>66.0</td>\n",
       "      <td>5.0</td>\n",
       "      <td>10.0</td>\n",
       "      <td>9.0</td>\n",
       "      <td>7.0</td>\n",
       "      <td>7.0</td>\n",
       "    </tr>\n",
       "  </tbody>\n",
       "</table>\n",
       "<p>5 rows × 42 columns</p>\n",
       "</div>"
      ],
      "text/plain": [
       "   id  player_fifa_api_id  player_api_id                 date  overall_rating  \\\n",
       "0   1              218353         505942  2016-02-18 00:00:00            67.0   \n",
       "1   2              218353         505942  2015-11-19 00:00:00            67.0   \n",
       "2   3              218353         505942  2015-09-21 00:00:00            62.0   \n",
       "3   4              218353         505942  2015-03-20 00:00:00            61.0   \n",
       "4   5              218353         505942  2007-02-22 00:00:00            61.0   \n",
       "\n",
       "   potential preferred_foot attacking_work_rate defensive_work_rate  crossing  \\\n",
       "0       71.0          right              medium              medium      49.0   \n",
       "1       71.0          right              medium              medium      49.0   \n",
       "2       66.0          right              medium              medium      49.0   \n",
       "3       65.0          right              medium              medium      48.0   \n",
       "4       65.0          right              medium              medium      48.0   \n",
       "\n",
       "   ...  vision  penalties  marking  standing_tackle  sliding_tackle  \\\n",
       "0  ...    54.0       48.0     65.0             69.0            69.0   \n",
       "1  ...    54.0       48.0     65.0             69.0            69.0   \n",
       "2  ...    54.0       48.0     65.0             66.0            69.0   \n",
       "3  ...    53.0       47.0     62.0             63.0            66.0   \n",
       "4  ...    53.0       47.0     62.0             63.0            66.0   \n",
       "\n",
       "   gk_diving  gk_handling  gk_kicking  gk_positioning  gk_reflexes  \n",
       "0        6.0         11.0        10.0             8.0          8.0  \n",
       "1        6.0         11.0        10.0             8.0          8.0  \n",
       "2        6.0         11.0        10.0             8.0          8.0  \n",
       "3        5.0         10.0         9.0             7.0          7.0  \n",
       "4        5.0         10.0         9.0             7.0          7.0  \n",
       "\n",
       "[5 rows x 42 columns]"
      ]
     },
     "execution_count": 5,
     "metadata": {},
     "output_type": "execute_result"
    }
   ],
   "source": [
    "df.head()"
   ]
  },
  {
   "cell_type": "markdown",
   "metadata": {},
   "source": [
    "Creating Target variable:"
   ]
  },
  {
   "cell_type": "code",
   "execution_count": 6,
   "metadata": {},
   "outputs": [],
   "source": [
    "target = df.pop('overall_rating')"
   ]
  },
  {
   "cell_type": "code",
   "execution_count": 7,
   "metadata": {},
   "outputs": [
    {
     "data": {
      "text/plain": [
       "(183978, 41)"
      ]
     },
     "execution_count": 7,
     "metadata": {},
     "output_type": "execute_result"
    }
   ],
   "source": [
    "df.shape"
   ]
  },
  {
   "cell_type": "code",
   "execution_count": 8,
   "metadata": {},
   "outputs": [
    {
     "data": {
      "text/plain": [
       "0    67.0\n",
       "1    67.0\n",
       "2    62.0\n",
       "3    61.0\n",
       "4    61.0\n",
       "Name: overall_rating, dtype: float64"
      ]
     },
     "execution_count": 8,
     "metadata": {},
     "output_type": "execute_result"
    }
   ],
   "source": [
    "target.head()"
   ]
  },
  {
   "cell_type": "markdown",
   "metadata": {},
   "source": [
    "Imputing target funtion :"
   ]
  },
  {
   "cell_type": "code",
   "execution_count": 9,
   "metadata": {},
   "outputs": [
    {
     "data": {
      "text/plain": [
       "836"
      ]
     },
     "execution_count": 9,
     "metadata": {},
     "output_type": "execute_result"
    }
   ],
   "source": [
    "target.isnull().values.sum()"
   ]
  },
  {
   "cell_type": "code",
   "execution_count": 10,
   "metadata": {},
   "outputs": [
    {
     "data": {
      "text/plain": [
       "count    183142.000000\n",
       "mean         68.600015\n",
       "std           7.041139\n",
       "min          33.000000\n",
       "25%          64.000000\n",
       "50%          69.000000\n",
       "75%          73.000000\n",
       "max          94.000000\n",
       "Name: overall_rating, dtype: float64"
      ]
     },
     "execution_count": 10,
     "metadata": {},
     "output_type": "execute_result"
    }
   ],
   "source": [
    "target.describe()"
   ]
  },
  {
   "cell_type": "code",
   "execution_count": 11,
   "metadata": {},
   "outputs": [
    {
     "data": {
      "application/javascript": [
       "/* Put everything inside the global mpl namespace */\n",
       "window.mpl = {};\n",
       "\n",
       "\n",
       "mpl.get_websocket_type = function() {\n",
       "    if (typeof(WebSocket) !== 'undefined') {\n",
       "        return WebSocket;\n",
       "    } else if (typeof(MozWebSocket) !== 'undefined') {\n",
       "        return MozWebSocket;\n",
       "    } else {\n",
       "        alert('Your browser does not have WebSocket support. ' +\n",
       "              'Please try Chrome, Safari or Firefox ≥ 6. ' +\n",
       "              'Firefox 4 and 5 are also supported but you ' +\n",
       "              'have to enable WebSockets in about:config.');\n",
       "    };\n",
       "}\n",
       "\n",
       "mpl.figure = function(figure_id, websocket, ondownload, parent_element) {\n",
       "    this.id = figure_id;\n",
       "\n",
       "    this.ws = websocket;\n",
       "\n",
       "    this.supports_binary = (this.ws.binaryType != undefined);\n",
       "\n",
       "    if (!this.supports_binary) {\n",
       "        var warnings = document.getElementById(\"mpl-warnings\");\n",
       "        if (warnings) {\n",
       "            warnings.style.display = 'block';\n",
       "            warnings.textContent = (\n",
       "                \"This browser does not support binary websocket messages. \" +\n",
       "                    \"Performance may be slow.\");\n",
       "        }\n",
       "    }\n",
       "\n",
       "    this.imageObj = new Image();\n",
       "\n",
       "    this.context = undefined;\n",
       "    this.message = undefined;\n",
       "    this.canvas = undefined;\n",
       "    this.rubberband_canvas = undefined;\n",
       "    this.rubberband_context = undefined;\n",
       "    this.format_dropdown = undefined;\n",
       "\n",
       "    this.image_mode = 'full';\n",
       "\n",
       "    this.root = $('<div/>');\n",
       "    this._root_extra_style(this.root)\n",
       "    this.root.attr('style', 'display: inline-block');\n",
       "\n",
       "    $(parent_element).append(this.root);\n",
       "\n",
       "    this._init_header(this);\n",
       "    this._init_canvas(this);\n",
       "    this._init_toolbar(this);\n",
       "\n",
       "    var fig = this;\n",
       "\n",
       "    this.waiting = false;\n",
       "\n",
       "    this.ws.onopen =  function () {\n",
       "            fig.send_message(\"supports_binary\", {value: fig.supports_binary});\n",
       "            fig.send_message(\"send_image_mode\", {});\n",
       "            if (mpl.ratio != 1) {\n",
       "                fig.send_message(\"set_dpi_ratio\", {'dpi_ratio': mpl.ratio});\n",
       "            }\n",
       "            fig.send_message(\"refresh\", {});\n",
       "        }\n",
       "\n",
       "    this.imageObj.onload = function() {\n",
       "            if (fig.image_mode == 'full') {\n",
       "                // Full images could contain transparency (where diff images\n",
       "                // almost always do), so we need to clear the canvas so that\n",
       "                // there is no ghosting.\n",
       "                fig.context.clearRect(0, 0, fig.canvas.width, fig.canvas.height);\n",
       "            }\n",
       "            fig.context.drawImage(fig.imageObj, 0, 0);\n",
       "        };\n",
       "\n",
       "    this.imageObj.onunload = function() {\n",
       "        fig.ws.close();\n",
       "    }\n",
       "\n",
       "    this.ws.onmessage = this._make_on_message_function(this);\n",
       "\n",
       "    this.ondownload = ondownload;\n",
       "}\n",
       "\n",
       "mpl.figure.prototype._init_header = function() {\n",
       "    var titlebar = $(\n",
       "        '<div class=\"ui-dialog-titlebar ui-widget-header ui-corner-all ' +\n",
       "        'ui-helper-clearfix\"/>');\n",
       "    var titletext = $(\n",
       "        '<div class=\"ui-dialog-title\" style=\"width: 100%; ' +\n",
       "        'text-align: center; padding: 3px;\"/>');\n",
       "    titlebar.append(titletext)\n",
       "    this.root.append(titlebar);\n",
       "    this.header = titletext[0];\n",
       "}\n",
       "\n",
       "\n",
       "\n",
       "mpl.figure.prototype._canvas_extra_style = function(canvas_div) {\n",
       "\n",
       "}\n",
       "\n",
       "\n",
       "mpl.figure.prototype._root_extra_style = function(canvas_div) {\n",
       "\n",
       "}\n",
       "\n",
       "mpl.figure.prototype._init_canvas = function() {\n",
       "    var fig = this;\n",
       "\n",
       "    var canvas_div = $('<div/>');\n",
       "\n",
       "    canvas_div.attr('style', 'position: relative; clear: both; outline: 0');\n",
       "\n",
       "    function canvas_keyboard_event(event) {\n",
       "        return fig.key_event(event, event['data']);\n",
       "    }\n",
       "\n",
       "    canvas_div.keydown('key_press', canvas_keyboard_event);\n",
       "    canvas_div.keyup('key_release', canvas_keyboard_event);\n",
       "    this.canvas_div = canvas_div\n",
       "    this._canvas_extra_style(canvas_div)\n",
       "    this.root.append(canvas_div);\n",
       "\n",
       "    var canvas = $('<canvas/>');\n",
       "    canvas.addClass('mpl-canvas');\n",
       "    canvas.attr('style', \"left: 0; top: 0; z-index: 0; outline: 0\")\n",
       "\n",
       "    this.canvas = canvas[0];\n",
       "    this.context = canvas[0].getContext(\"2d\");\n",
       "\n",
       "    var backingStore = this.context.backingStorePixelRatio ||\n",
       "\tthis.context.webkitBackingStorePixelRatio ||\n",
       "\tthis.context.mozBackingStorePixelRatio ||\n",
       "\tthis.context.msBackingStorePixelRatio ||\n",
       "\tthis.context.oBackingStorePixelRatio ||\n",
       "\tthis.context.backingStorePixelRatio || 1;\n",
       "\n",
       "    mpl.ratio = (window.devicePixelRatio || 1) / backingStore;\n",
       "\n",
       "    var rubberband = $('<canvas/>');\n",
       "    rubberband.attr('style', \"position: absolute; left: 0; top: 0; z-index: 1;\")\n",
       "\n",
       "    var pass_mouse_events = true;\n",
       "\n",
       "    canvas_div.resizable({\n",
       "        start: function(event, ui) {\n",
       "            pass_mouse_events = false;\n",
       "        },\n",
       "        resize: function(event, ui) {\n",
       "            fig.request_resize(ui.size.width, ui.size.height);\n",
       "        },\n",
       "        stop: function(event, ui) {\n",
       "            pass_mouse_events = true;\n",
       "            fig.request_resize(ui.size.width, ui.size.height);\n",
       "        },\n",
       "    });\n",
       "\n",
       "    function mouse_event_fn(event) {\n",
       "        if (pass_mouse_events)\n",
       "            return fig.mouse_event(event, event['data']);\n",
       "    }\n",
       "\n",
       "    rubberband.mousedown('button_press', mouse_event_fn);\n",
       "    rubberband.mouseup('button_release', mouse_event_fn);\n",
       "    // Throttle sequential mouse events to 1 every 20ms.\n",
       "    rubberband.mousemove('motion_notify', mouse_event_fn);\n",
       "\n",
       "    rubberband.mouseenter('figure_enter', mouse_event_fn);\n",
       "    rubberband.mouseleave('figure_leave', mouse_event_fn);\n",
       "\n",
       "    canvas_div.on(\"wheel\", function (event) {\n",
       "        event = event.originalEvent;\n",
       "        event['data'] = 'scroll'\n",
       "        if (event.deltaY < 0) {\n",
       "            event.step = 1;\n",
       "        } else {\n",
       "            event.step = -1;\n",
       "        }\n",
       "        mouse_event_fn(event);\n",
       "    });\n",
       "\n",
       "    canvas_div.append(canvas);\n",
       "    canvas_div.append(rubberband);\n",
       "\n",
       "    this.rubberband = rubberband;\n",
       "    this.rubberband_canvas = rubberband[0];\n",
       "    this.rubberband_context = rubberband[0].getContext(\"2d\");\n",
       "    this.rubberband_context.strokeStyle = \"#000000\";\n",
       "\n",
       "    this._resize_canvas = function(width, height) {\n",
       "        // Keep the size of the canvas, canvas container, and rubber band\n",
       "        // canvas in synch.\n",
       "        canvas_div.css('width', width)\n",
       "        canvas_div.css('height', height)\n",
       "\n",
       "        canvas.attr('width', width * mpl.ratio);\n",
       "        canvas.attr('height', height * mpl.ratio);\n",
       "        canvas.attr('style', 'width: ' + width + 'px; height: ' + height + 'px;');\n",
       "\n",
       "        rubberband.attr('width', width);\n",
       "        rubberband.attr('height', height);\n",
       "    }\n",
       "\n",
       "    // Set the figure to an initial 600x600px, this will subsequently be updated\n",
       "    // upon first draw.\n",
       "    this._resize_canvas(600, 600);\n",
       "\n",
       "    // Disable right mouse context menu.\n",
       "    $(this.rubberband_canvas).bind(\"contextmenu\",function(e){\n",
       "        return false;\n",
       "    });\n",
       "\n",
       "    function set_focus () {\n",
       "        canvas.focus();\n",
       "        canvas_div.focus();\n",
       "    }\n",
       "\n",
       "    window.setTimeout(set_focus, 100);\n",
       "}\n",
       "\n",
       "mpl.figure.prototype._init_toolbar = function() {\n",
       "    var fig = this;\n",
       "\n",
       "    var nav_element = $('<div/>');\n",
       "    nav_element.attr('style', 'width: 100%');\n",
       "    this.root.append(nav_element);\n",
       "\n",
       "    // Define a callback function for later on.\n",
       "    function toolbar_event(event) {\n",
       "        return fig.toolbar_button_onclick(event['data']);\n",
       "    }\n",
       "    function toolbar_mouse_event(event) {\n",
       "        return fig.toolbar_button_onmouseover(event['data']);\n",
       "    }\n",
       "\n",
       "    for(var toolbar_ind in mpl.toolbar_items) {\n",
       "        var name = mpl.toolbar_items[toolbar_ind][0];\n",
       "        var tooltip = mpl.toolbar_items[toolbar_ind][1];\n",
       "        var image = mpl.toolbar_items[toolbar_ind][2];\n",
       "        var method_name = mpl.toolbar_items[toolbar_ind][3];\n",
       "\n",
       "        if (!name) {\n",
       "            // put a spacer in here.\n",
       "            continue;\n",
       "        }\n",
       "        var button = $('<button/>');\n",
       "        button.addClass('ui-button ui-widget ui-state-default ui-corner-all ' +\n",
       "                        'ui-button-icon-only');\n",
       "        button.attr('role', 'button');\n",
       "        button.attr('aria-disabled', 'false');\n",
       "        button.click(method_name, toolbar_event);\n",
       "        button.mouseover(tooltip, toolbar_mouse_event);\n",
       "\n",
       "        var icon_img = $('<span/>');\n",
       "        icon_img.addClass('ui-button-icon-primary ui-icon');\n",
       "        icon_img.addClass(image);\n",
       "        icon_img.addClass('ui-corner-all');\n",
       "\n",
       "        var tooltip_span = $('<span/>');\n",
       "        tooltip_span.addClass('ui-button-text');\n",
       "        tooltip_span.html(tooltip);\n",
       "\n",
       "        button.append(icon_img);\n",
       "        button.append(tooltip_span);\n",
       "\n",
       "        nav_element.append(button);\n",
       "    }\n",
       "\n",
       "    var fmt_picker_span = $('<span/>');\n",
       "\n",
       "    var fmt_picker = $('<select/>');\n",
       "    fmt_picker.addClass('mpl-toolbar-option ui-widget ui-widget-content');\n",
       "    fmt_picker_span.append(fmt_picker);\n",
       "    nav_element.append(fmt_picker_span);\n",
       "    this.format_dropdown = fmt_picker[0];\n",
       "\n",
       "    for (var ind in mpl.extensions) {\n",
       "        var fmt = mpl.extensions[ind];\n",
       "        var option = $(\n",
       "            '<option/>', {selected: fmt === mpl.default_extension}).html(fmt);\n",
       "        fmt_picker.append(option);\n",
       "    }\n",
       "\n",
       "    // Add hover states to the ui-buttons\n",
       "    $( \".ui-button\" ).hover(\n",
       "        function() { $(this).addClass(\"ui-state-hover\");},\n",
       "        function() { $(this).removeClass(\"ui-state-hover\");}\n",
       "    );\n",
       "\n",
       "    var status_bar = $('<span class=\"mpl-message\"/>');\n",
       "    nav_element.append(status_bar);\n",
       "    this.message = status_bar[0];\n",
       "}\n",
       "\n",
       "mpl.figure.prototype.request_resize = function(x_pixels, y_pixels) {\n",
       "    // Request matplotlib to resize the figure. Matplotlib will then trigger a resize in the client,\n",
       "    // which will in turn request a refresh of the image.\n",
       "    this.send_message('resize', {'width': x_pixels, 'height': y_pixels});\n",
       "}\n",
       "\n",
       "mpl.figure.prototype.send_message = function(type, properties) {\n",
       "    properties['type'] = type;\n",
       "    properties['figure_id'] = this.id;\n",
       "    this.ws.send(JSON.stringify(properties));\n",
       "}\n",
       "\n",
       "mpl.figure.prototype.send_draw_message = function() {\n",
       "    if (!this.waiting) {\n",
       "        this.waiting = true;\n",
       "        this.ws.send(JSON.stringify({type: \"draw\", figure_id: this.id}));\n",
       "    }\n",
       "}\n",
       "\n",
       "\n",
       "mpl.figure.prototype.handle_save = function(fig, msg) {\n",
       "    var format_dropdown = fig.format_dropdown;\n",
       "    var format = format_dropdown.options[format_dropdown.selectedIndex].value;\n",
       "    fig.ondownload(fig, format);\n",
       "}\n",
       "\n",
       "\n",
       "mpl.figure.prototype.handle_resize = function(fig, msg) {\n",
       "    var size = msg['size'];\n",
       "    if (size[0] != fig.canvas.width || size[1] != fig.canvas.height) {\n",
       "        fig._resize_canvas(size[0], size[1]);\n",
       "        fig.send_message(\"refresh\", {});\n",
       "    };\n",
       "}\n",
       "\n",
       "mpl.figure.prototype.handle_rubberband = function(fig, msg) {\n",
       "    var x0 = msg['x0'] / mpl.ratio;\n",
       "    var y0 = (fig.canvas.height - msg['y0']) / mpl.ratio;\n",
       "    var x1 = msg['x1'] / mpl.ratio;\n",
       "    var y1 = (fig.canvas.height - msg['y1']) / mpl.ratio;\n",
       "    x0 = Math.floor(x0) + 0.5;\n",
       "    y0 = Math.floor(y0) + 0.5;\n",
       "    x1 = Math.floor(x1) + 0.5;\n",
       "    y1 = Math.floor(y1) + 0.5;\n",
       "    var min_x = Math.min(x0, x1);\n",
       "    var min_y = Math.min(y0, y1);\n",
       "    var width = Math.abs(x1 - x0);\n",
       "    var height = Math.abs(y1 - y0);\n",
       "\n",
       "    fig.rubberband_context.clearRect(\n",
       "        0, 0, fig.canvas.width / mpl.ratio, fig.canvas.height / mpl.ratio);\n",
       "\n",
       "    fig.rubberband_context.strokeRect(min_x, min_y, width, height);\n",
       "}\n",
       "\n",
       "mpl.figure.prototype.handle_figure_label = function(fig, msg) {\n",
       "    // Updates the figure title.\n",
       "    fig.header.textContent = msg['label'];\n",
       "}\n",
       "\n",
       "mpl.figure.prototype.handle_cursor = function(fig, msg) {\n",
       "    var cursor = msg['cursor'];\n",
       "    switch(cursor)\n",
       "    {\n",
       "    case 0:\n",
       "        cursor = 'pointer';\n",
       "        break;\n",
       "    case 1:\n",
       "        cursor = 'default';\n",
       "        break;\n",
       "    case 2:\n",
       "        cursor = 'crosshair';\n",
       "        break;\n",
       "    case 3:\n",
       "        cursor = 'move';\n",
       "        break;\n",
       "    }\n",
       "    fig.rubberband_canvas.style.cursor = cursor;\n",
       "}\n",
       "\n",
       "mpl.figure.prototype.handle_message = function(fig, msg) {\n",
       "    fig.message.textContent = msg['message'];\n",
       "}\n",
       "\n",
       "mpl.figure.prototype.handle_draw = function(fig, msg) {\n",
       "    // Request the server to send over a new figure.\n",
       "    fig.send_draw_message();\n",
       "}\n",
       "\n",
       "mpl.figure.prototype.handle_image_mode = function(fig, msg) {\n",
       "    fig.image_mode = msg['mode'];\n",
       "}\n",
       "\n",
       "mpl.figure.prototype.updated_canvas_event = function() {\n",
       "    // Called whenever the canvas gets updated.\n",
       "    this.send_message(\"ack\", {});\n",
       "}\n",
       "\n",
       "// A function to construct a web socket function for onmessage handling.\n",
       "// Called in the figure constructor.\n",
       "mpl.figure.prototype._make_on_message_function = function(fig) {\n",
       "    return function socket_on_message(evt) {\n",
       "        if (evt.data instanceof Blob) {\n",
       "            /* FIXME: We get \"Resource interpreted as Image but\n",
       "             * transferred with MIME type text/plain:\" errors on\n",
       "             * Chrome.  But how to set the MIME type?  It doesn't seem\n",
       "             * to be part of the websocket stream */\n",
       "            evt.data.type = \"image/png\";\n",
       "\n",
       "            /* Free the memory for the previous frames */\n",
       "            if (fig.imageObj.src) {\n",
       "                (window.URL || window.webkitURL).revokeObjectURL(\n",
       "                    fig.imageObj.src);\n",
       "            }\n",
       "\n",
       "            fig.imageObj.src = (window.URL || window.webkitURL).createObjectURL(\n",
       "                evt.data);\n",
       "            fig.updated_canvas_event();\n",
       "            fig.waiting = false;\n",
       "            return;\n",
       "        }\n",
       "        else if (typeof evt.data === 'string' && evt.data.slice(0, 21) == \"data:image/png;base64\") {\n",
       "            fig.imageObj.src = evt.data;\n",
       "            fig.updated_canvas_event();\n",
       "            fig.waiting = false;\n",
       "            return;\n",
       "        }\n",
       "\n",
       "        var msg = JSON.parse(evt.data);\n",
       "        var msg_type = msg['type'];\n",
       "\n",
       "        // Call the  \"handle_{type}\" callback, which takes\n",
       "        // the figure and JSON message as its only arguments.\n",
       "        try {\n",
       "            var callback = fig[\"handle_\" + msg_type];\n",
       "        } catch (e) {\n",
       "            console.log(\"No handler for the '\" + msg_type + \"' message type: \", msg);\n",
       "            return;\n",
       "        }\n",
       "\n",
       "        if (callback) {\n",
       "            try {\n",
       "                // console.log(\"Handling '\" + msg_type + \"' message: \", msg);\n",
       "                callback(fig, msg);\n",
       "            } catch (e) {\n",
       "                console.log(\"Exception inside the 'handler_\" + msg_type + \"' callback:\", e, e.stack, msg);\n",
       "            }\n",
       "        }\n",
       "    };\n",
       "}\n",
       "\n",
       "// from http://stackoverflow.com/questions/1114465/getting-mouse-location-in-canvas\n",
       "mpl.findpos = function(e) {\n",
       "    //this section is from http://www.quirksmode.org/js/events_properties.html\n",
       "    var targ;\n",
       "    if (!e)\n",
       "        e = window.event;\n",
       "    if (e.target)\n",
       "        targ = e.target;\n",
       "    else if (e.srcElement)\n",
       "        targ = e.srcElement;\n",
       "    if (targ.nodeType == 3) // defeat Safari bug\n",
       "        targ = targ.parentNode;\n",
       "\n",
       "    // jQuery normalizes the pageX and pageY\n",
       "    // pageX,Y are the mouse positions relative to the document\n",
       "    // offset() returns the position of the element relative to the document\n",
       "    var x = e.pageX - $(targ).offset().left;\n",
       "    var y = e.pageY - $(targ).offset().top;\n",
       "\n",
       "    return {\"x\": x, \"y\": y};\n",
       "};\n",
       "\n",
       "/*\n",
       " * return a copy of an object with only non-object keys\n",
       " * we need this to avoid circular references\n",
       " * http://stackoverflow.com/a/24161582/3208463\n",
       " */\n",
       "function simpleKeys (original) {\n",
       "  return Object.keys(original).reduce(function (obj, key) {\n",
       "    if (typeof original[key] !== 'object')\n",
       "        obj[key] = original[key]\n",
       "    return obj;\n",
       "  }, {});\n",
       "}\n",
       "\n",
       "mpl.figure.prototype.mouse_event = function(event, name) {\n",
       "    var canvas_pos = mpl.findpos(event)\n",
       "\n",
       "    if (name === 'button_press')\n",
       "    {\n",
       "        this.canvas.focus();\n",
       "        this.canvas_div.focus();\n",
       "    }\n",
       "\n",
       "    var x = canvas_pos.x * mpl.ratio;\n",
       "    var y = canvas_pos.y * mpl.ratio;\n",
       "\n",
       "    this.send_message(name, {x: x, y: y, button: event.button,\n",
       "                             step: event.step,\n",
       "                             guiEvent: simpleKeys(event)});\n",
       "\n",
       "    /* This prevents the web browser from automatically changing to\n",
       "     * the text insertion cursor when the button is pressed.  We want\n",
       "     * to control all of the cursor setting manually through the\n",
       "     * 'cursor' event from matplotlib */\n",
       "    event.preventDefault();\n",
       "    return false;\n",
       "}\n",
       "\n",
       "mpl.figure.prototype._key_event_extra = function(event, name) {\n",
       "    // Handle any extra behaviour associated with a key event\n",
       "}\n",
       "\n",
       "mpl.figure.prototype.key_event = function(event, name) {\n",
       "\n",
       "    // Prevent repeat events\n",
       "    if (name == 'key_press')\n",
       "    {\n",
       "        if (event.which === this._key)\n",
       "            return;\n",
       "        else\n",
       "            this._key = event.which;\n",
       "    }\n",
       "    if (name == 'key_release')\n",
       "        this._key = null;\n",
       "\n",
       "    var value = '';\n",
       "    if (event.ctrlKey && event.which != 17)\n",
       "        value += \"ctrl+\";\n",
       "    if (event.altKey && event.which != 18)\n",
       "        value += \"alt+\";\n",
       "    if (event.shiftKey && event.which != 16)\n",
       "        value += \"shift+\";\n",
       "\n",
       "    value += 'k';\n",
       "    value += event.which.toString();\n",
       "\n",
       "    this._key_event_extra(event, name);\n",
       "\n",
       "    this.send_message(name, {key: value,\n",
       "                             guiEvent: simpleKeys(event)});\n",
       "    return false;\n",
       "}\n",
       "\n",
       "mpl.figure.prototype.toolbar_button_onclick = function(name) {\n",
       "    if (name == 'download') {\n",
       "        this.handle_save(this, null);\n",
       "    } else {\n",
       "        this.send_message(\"toolbar_button\", {name: name});\n",
       "    }\n",
       "};\n",
       "\n",
       "mpl.figure.prototype.toolbar_button_onmouseover = function(tooltip) {\n",
       "    this.message.textContent = tooltip;\n",
       "};\n",
       "mpl.toolbar_items = [[\"Home\", \"Reset original view\", \"fa fa-home icon-home\", \"home\"], [\"Back\", \"Back to previous view\", \"fa fa-arrow-left icon-arrow-left\", \"back\"], [\"Forward\", \"Forward to next view\", \"fa fa-arrow-right icon-arrow-right\", \"forward\"], [\"\", \"\", \"\", \"\"], [\"Pan\", \"Pan axes with left mouse, zoom with right\", \"fa fa-arrows icon-move\", \"pan\"], [\"Zoom\", \"Zoom to rectangle\", \"fa fa-square-o icon-check-empty\", \"zoom\"], [\"\", \"\", \"\", \"\"], [\"Download\", \"Download plot\", \"fa fa-floppy-o icon-save\", \"download\"]];\n",
       "\n",
       "mpl.extensions = [\"eps\", \"jpeg\", \"pdf\", \"png\", \"ps\", \"raw\", \"svg\", \"tif\"];\n",
       "\n",
       "mpl.default_extension = \"png\";var comm_websocket_adapter = function(comm) {\n",
       "    // Create a \"websocket\"-like object which calls the given IPython comm\n",
       "    // object with the appropriate methods. Currently this is a non binary\n",
       "    // socket, so there is still some room for performance tuning.\n",
       "    var ws = {};\n",
       "\n",
       "    ws.close = function() {\n",
       "        comm.close()\n",
       "    };\n",
       "    ws.send = function(m) {\n",
       "        //console.log('sending', m);\n",
       "        comm.send(m);\n",
       "    };\n",
       "    // Register the callback with on_msg.\n",
       "    comm.on_msg(function(msg) {\n",
       "        //console.log('receiving', msg['content']['data'], msg);\n",
       "        // Pass the mpl event to the overridden (by mpl) onmessage function.\n",
       "        ws.onmessage(msg['content']['data'])\n",
       "    });\n",
       "    return ws;\n",
       "}\n",
       "\n",
       "mpl.mpl_figure_comm = function(comm, msg) {\n",
       "    // This is the function which gets called when the mpl process\n",
       "    // starts-up an IPython Comm through the \"matplotlib\" channel.\n",
       "\n",
       "    var id = msg.content.data.id;\n",
       "    // Get hold of the div created by the display call when the Comm\n",
       "    // socket was opened in Python.\n",
       "    var element = $(\"#\" + id);\n",
       "    var ws_proxy = comm_websocket_adapter(comm)\n",
       "\n",
       "    function ondownload(figure, format) {\n",
       "        window.open(figure.imageObj.src);\n",
       "    }\n",
       "\n",
       "    var fig = new mpl.figure(id, ws_proxy,\n",
       "                           ondownload,\n",
       "                           element.get(0));\n",
       "\n",
       "    // Call onopen now - mpl needs it, as it is assuming we've passed it a real\n",
       "    // web socket which is closed, not our websocket->open comm proxy.\n",
       "    ws_proxy.onopen();\n",
       "\n",
       "    fig.parent_element = element.get(0);\n",
       "    fig.cell_info = mpl.find_output_cell(\"<div id='\" + id + \"'></div>\");\n",
       "    if (!fig.cell_info) {\n",
       "        console.error(\"Failed to find cell for figure\", id, fig);\n",
       "        return;\n",
       "    }\n",
       "\n",
       "    var output_index = fig.cell_info[2]\n",
       "    var cell = fig.cell_info[0];\n",
       "\n",
       "};\n",
       "\n",
       "mpl.figure.prototype.handle_close = function(fig, msg) {\n",
       "    var width = fig.canvas.width/mpl.ratio\n",
       "    fig.root.unbind('remove')\n",
       "\n",
       "    // Update the output cell to use the data from the current canvas.\n",
       "    fig.push_to_output();\n",
       "    var dataURL = fig.canvas.toDataURL();\n",
       "    // Re-enable the keyboard manager in IPython - without this line, in FF,\n",
       "    // the notebook keyboard shortcuts fail.\n",
       "    IPython.keyboard_manager.enable()\n",
       "    $(fig.parent_element).html('<img src=\"' + dataURL + '\" width=\"' + width + '\">');\n",
       "    fig.close_ws(fig, msg);\n",
       "}\n",
       "\n",
       "mpl.figure.prototype.close_ws = function(fig, msg){\n",
       "    fig.send_message('closing', msg);\n",
       "    // fig.ws.close()\n",
       "}\n",
       "\n",
       "mpl.figure.prototype.push_to_output = function(remove_interactive) {\n",
       "    // Turn the data on the canvas into data in the output cell.\n",
       "    var width = this.canvas.width/mpl.ratio\n",
       "    var dataURL = this.canvas.toDataURL();\n",
       "    this.cell_info[1]['text/html'] = '<img src=\"' + dataURL + '\" width=\"' + width + '\">';\n",
       "}\n",
       "\n",
       "mpl.figure.prototype.updated_canvas_event = function() {\n",
       "    // Tell IPython that the notebook contents must change.\n",
       "    IPython.notebook.set_dirty(true);\n",
       "    this.send_message(\"ack\", {});\n",
       "    var fig = this;\n",
       "    // Wait a second, then push the new image to the DOM so\n",
       "    // that it is saved nicely (might be nice to debounce this).\n",
       "    setTimeout(function () { fig.push_to_output() }, 1000);\n",
       "}\n",
       "\n",
       "mpl.figure.prototype._init_toolbar = function() {\n",
       "    var fig = this;\n",
       "\n",
       "    var nav_element = $('<div/>');\n",
       "    nav_element.attr('style', 'width: 100%');\n",
       "    this.root.append(nav_element);\n",
       "\n",
       "    // Define a callback function for later on.\n",
       "    function toolbar_event(event) {\n",
       "        return fig.toolbar_button_onclick(event['data']);\n",
       "    }\n",
       "    function toolbar_mouse_event(event) {\n",
       "        return fig.toolbar_button_onmouseover(event['data']);\n",
       "    }\n",
       "\n",
       "    for(var toolbar_ind in mpl.toolbar_items){\n",
       "        var name = mpl.toolbar_items[toolbar_ind][0];\n",
       "        var tooltip = mpl.toolbar_items[toolbar_ind][1];\n",
       "        var image = mpl.toolbar_items[toolbar_ind][2];\n",
       "        var method_name = mpl.toolbar_items[toolbar_ind][3];\n",
       "\n",
       "        if (!name) { continue; };\n",
       "\n",
       "        var button = $('<button class=\"btn btn-default\" href=\"#\" title=\"' + name + '\"><i class=\"fa ' + image + ' fa-lg\"></i></button>');\n",
       "        button.click(method_name, toolbar_event);\n",
       "        button.mouseover(tooltip, toolbar_mouse_event);\n",
       "        nav_element.append(button);\n",
       "    }\n",
       "\n",
       "    // Add the status bar.\n",
       "    var status_bar = $('<span class=\"mpl-message\" style=\"text-align:right; float: right;\"/>');\n",
       "    nav_element.append(status_bar);\n",
       "    this.message = status_bar[0];\n",
       "\n",
       "    // Add the close button to the window.\n",
       "    var buttongrp = $('<div class=\"btn-group inline pull-right\"></div>');\n",
       "    var button = $('<button class=\"btn btn-mini btn-primary\" href=\"#\" title=\"Stop Interaction\"><i class=\"fa fa-power-off icon-remove icon-large\"></i></button>');\n",
       "    button.click(function (evt) { fig.handle_close(fig, {}); } );\n",
       "    button.mouseover('Stop Interaction', toolbar_mouse_event);\n",
       "    buttongrp.append(button);\n",
       "    var titlebar = this.root.find($('.ui-dialog-titlebar'));\n",
       "    titlebar.prepend(buttongrp);\n",
       "}\n",
       "\n",
       "mpl.figure.prototype._root_extra_style = function(el){\n",
       "    var fig = this\n",
       "    el.on(\"remove\", function(){\n",
       "\tfig.close_ws(fig, {});\n",
       "    });\n",
       "}\n",
       "\n",
       "mpl.figure.prototype._canvas_extra_style = function(el){\n",
       "    // this is important to make the div 'focusable\n",
       "    el.attr('tabindex', 0)\n",
       "    // reach out to IPython and tell the keyboard manager to turn it's self\n",
       "    // off when our div gets focus\n",
       "\n",
       "    // location in version 3\n",
       "    if (IPython.notebook.keyboard_manager) {\n",
       "        IPython.notebook.keyboard_manager.register_events(el);\n",
       "    }\n",
       "    else {\n",
       "        // location in version 2\n",
       "        IPython.keyboard_manager.register_events(el);\n",
       "    }\n",
       "\n",
       "}\n",
       "\n",
       "mpl.figure.prototype._key_event_extra = function(event, name) {\n",
       "    var manager = IPython.notebook.keyboard_manager;\n",
       "    if (!manager)\n",
       "        manager = IPython.keyboard_manager;\n",
       "\n",
       "    // Check for shift+enter\n",
       "    if (event.shiftKey && event.which == 13) {\n",
       "        this.canvas_div.blur();\n",
       "        // select the cell after this one\n",
       "        var index = IPython.notebook.find_cell_index(this.cell_info[0]);\n",
       "        IPython.notebook.select(index + 1);\n",
       "    }\n",
       "}\n",
       "\n",
       "mpl.figure.prototype.handle_save = function(fig, msg) {\n",
       "    fig.ondownload(fig, null);\n",
       "}\n",
       "\n",
       "\n",
       "mpl.find_output_cell = function(html_output) {\n",
       "    // Return the cell and output element which can be found *uniquely* in the notebook.\n",
       "    // Note - this is a bit hacky, but it is done because the \"notebook_saving.Notebook\"\n",
       "    // IPython event is triggered only after the cells have been serialised, which for\n",
       "    // our purposes (turning an active figure into a static one), is too late.\n",
       "    var cells = IPython.notebook.get_cells();\n",
       "    var ncells = cells.length;\n",
       "    for (var i=0; i<ncells; i++) {\n",
       "        var cell = cells[i];\n",
       "        if (cell.cell_type === 'code'){\n",
       "            for (var j=0; j<cell.output_area.outputs.length; j++) {\n",
       "                var data = cell.output_area.outputs[j];\n",
       "                if (data.data) {\n",
       "                    // IPython >= 3 moved mimebundle to data attribute of output\n",
       "                    data = data.data;\n",
       "                }\n",
       "                if (data['text/html'] == html_output) {\n",
       "                    return [cell, data, j];\n",
       "                }\n",
       "            }\n",
       "        }\n",
       "    }\n",
       "}\n",
       "\n",
       "// Register the function which deals with the matplotlib target/channel.\n",
       "// The kernel may be null if the page has been refreshed.\n",
       "if (IPython.notebook.kernel != null) {\n",
       "    IPython.notebook.kernel.comm_manager.register_target('matplotlib', mpl.mpl_figure_comm);\n",
       "}\n"
      ],
      "text/plain": [
       "<IPython.core.display.Javascript object>"
      ]
     },
     "metadata": {},
     "output_type": "display_data"
    },
    {
     "data": {
      "text/html": [
       "<img src=\"data:image/png;base64,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\" width=\"640\">"
      ],
      "text/plain": [
       "<IPython.core.display.HTML object>"
      ]
     },
     "metadata": {},
     "output_type": "display_data"
    },
    {
     "name": "stderr",
     "output_type": "stream",
     "text": [
      "C:\\Users\\Prathamesh Deshpande\\anaconda3\\lib\\site-packages\\numpy\\lib\\histograms.py:839: RuntimeWarning: invalid value encountered in greater_equal\n",
      "  keep = (tmp_a >= first_edge)\n",
      "C:\\Users\\Prathamesh Deshpande\\anaconda3\\lib\\site-packages\\numpy\\lib\\histograms.py:840: RuntimeWarning: invalid value encountered in less_equal\n",
      "  keep &= (tmp_a <= last_edge)\n"
     ]
    },
    {
     "data": {
      "text/plain": [
       "(array([7.0000e+00, 6.0000e+00, 2.0000e+01, 6.5000e+01, 9.4000e+01,\n",
       "        1.4200e+02, 2.9400e+02, 5.2600e+02, 1.2510e+03, 1.8450e+03,\n",
       "        2.5780e+03, 4.0870e+03, 6.1890e+03, 9.6500e+03, 1.3745e+04,\n",
       "        1.8366e+04, 2.0310e+04, 2.0773e+04, 1.9382e+04, 1.8784e+04,\n",
       "        1.5915e+04, 1.1254e+04, 7.5250e+03, 4.9470e+03, 2.8290e+03,\n",
       "        1.4590e+03, 7.4800e+02, 2.2800e+02, 8.4000e+01, 3.9000e+01]),\n",
       " array([33.        , 35.03333333, 37.06666667, 39.1       , 41.13333333,\n",
       "        43.16666667, 45.2       , 47.23333333, 49.26666667, 51.3       ,\n",
       "        53.33333333, 55.36666667, 57.4       , 59.43333333, 61.46666667,\n",
       "        63.5       , 65.53333333, 67.56666667, 69.6       , 71.63333333,\n",
       "        73.66666667, 75.7       , 77.73333333, 79.76666667, 81.8       ,\n",
       "        83.83333333, 85.86666667, 87.9       , 89.93333333, 91.96666667,\n",
       "        94.        ]),\n",
       " <a list of 30 Patch objects>)"
      ]
     },
     "execution_count": 11,
     "metadata": {},
     "output_type": "execute_result"
    }
   ],
   "source": [
    "plt.hist(target, 30, range=(33, 94))"
   ]
  },
  {
   "cell_type": "markdown",
   "metadata": {},
   "source": [
    "It's almost normal distribution so we can impute mean value for missing value in target."
   ]
  },
  {
   "cell_type": "code",
   "execution_count": 12,
   "metadata": {},
   "outputs": [],
   "source": [
    "y = target.fillna(target.mean())"
   ]
  },
  {
   "cell_type": "code",
   "execution_count": 13,
   "metadata": {},
   "outputs": [
    {
     "data": {
      "text/plain": [
       "False"
      ]
     },
     "execution_count": 13,
     "metadata": {},
     "output_type": "execute_result"
    }
   ],
   "source": [
    "y.isnull().values.any()"
   ]
  },
  {
   "cell_type": "markdown",
   "metadata": {},
   "source": [
    "Data Exploration :"
   ]
  },
  {
   "cell_type": "code",
   "execution_count": 14,
   "metadata": {},
   "outputs": [
    {
     "data": {
      "text/plain": [
       "Index(['id', 'player_fifa_api_id', 'player_api_id', 'date', 'potential',\n",
       "       'preferred_foot', 'attacking_work_rate', 'defensive_work_rate',\n",
       "       'crossing', 'finishing', 'heading_accuracy', 'short_passing', 'volleys',\n",
       "       'dribbling', 'curve', 'free_kick_accuracy', 'long_passing',\n",
       "       'ball_control', 'acceleration', 'sprint_speed', 'agility', 'reactions',\n",
       "       'balance', 'shot_power', 'jumping', 'stamina', 'strength', 'long_shots',\n",
       "       'aggression', 'interceptions', 'positioning', 'vision', 'penalties',\n",
       "       'marking', 'standing_tackle', 'sliding_tackle', 'gk_diving',\n",
       "       'gk_handling', 'gk_kicking', 'gk_positioning', 'gk_reflexes'],\n",
       "      dtype='object')"
      ]
     },
     "execution_count": 14,
     "metadata": {},
     "output_type": "execute_result"
    }
   ],
   "source": [
    "df.columns"
   ]
  },
  {
   "cell_type": "code",
   "execution_count": 15,
   "metadata": {},
   "outputs": [
    {
     "name": "stdout",
     "output_type": "stream",
     "text": [
      "id--> 183978..int64\n",
      "player_fifa_api_id--> 11062..int64\n",
      "player_api_id--> 11060..int64\n",
      "date--> 197..object\n",
      "potential--> 57..float64\n",
      "preferred_foot--> 3..object\n",
      "attacking_work_rate--> 9..object\n",
      "defensive_work_rate--> 20..object\n",
      "crossing--> 96..float64\n",
      "finishing--> 98..float64\n",
      "heading_accuracy--> 97..float64\n",
      "short_passing--> 96..float64\n",
      "volleys--> 94..float64\n",
      "dribbling--> 98..float64\n",
      "curve--> 93..float64\n",
      "free_kick_accuracy--> 98..float64\n",
      "long_passing--> 96..float64\n",
      "ball_control--> 94..float64\n",
      "acceleration--> 87..float64\n",
      "sprint_speed--> 86..float64\n",
      "agility--> 82..float64\n",
      "reactions--> 79..float64\n",
      "balance--> 82..float64\n",
      "shot_power--> 97..float64\n",
      "jumping--> 80..float64\n",
      "stamina--> 85..float64\n",
      "strength--> 83..float64\n",
      "long_shots--> 97..float64\n",
      "aggression--> 92..float64\n",
      "interceptions--> 97..float64\n",
      "positioning--> 96..float64\n",
      "vision--> 98..float64\n",
      "penalties--> 95..float64\n",
      "marking--> 96..float64\n",
      "standing_tackle--> 96..float64\n",
      "sliding_tackle--> 95..float64\n",
      "gk_diving--> 94..float64\n",
      "gk_handling--> 91..float64\n",
      "gk_kicking--> 98..float64\n",
      "gk_positioning--> 95..float64\n",
      "gk_reflexes--> 93..float64\n"
     ]
    }
   ],
   "source": [
    "for col in df.columns:\n",
    "    unique_cat = len(df[col].unique())\n",
    "    print(\"{col}--> {unique_cat}..{typ}\".format(col=col, unique_cat=unique_cat, typ=df[col].dtype))"
   ]
  },
  {
   "cell_type": "code",
   "execution_count": 16,
   "metadata": {},
   "outputs": [
    {
     "data": {
      "text/html": [
       "<div>\n",
       "<style scoped>\n",
       "    .dataframe tbody tr th:only-of-type {\n",
       "        vertical-align: middle;\n",
       "    }\n",
       "\n",
       "    .dataframe tbody tr th {\n",
       "        vertical-align: top;\n",
       "    }\n",
       "\n",
       "    .dataframe thead th {\n",
       "        text-align: right;\n",
       "    }\n",
       "</style>\n",
       "<table border=\"1\" class=\"dataframe\">\n",
       "  <thead>\n",
       "    <tr style=\"text-align: right;\">\n",
       "      <th></th>\n",
       "      <th>id</th>\n",
       "      <th>player_fifa_api_id</th>\n",
       "      <th>player_api_id</th>\n",
       "      <th>date</th>\n",
       "      <th>potential</th>\n",
       "      <th>crossing</th>\n",
       "      <th>finishing</th>\n",
       "      <th>heading_accuracy</th>\n",
       "      <th>short_passing</th>\n",
       "      <th>volleys</th>\n",
       "      <th>...</th>\n",
       "      <th>defensive_work_rate_9</th>\n",
       "      <th>defensive_work_rate__0</th>\n",
       "      <th>defensive_work_rate_ean</th>\n",
       "      <th>defensive_work_rate_es</th>\n",
       "      <th>defensive_work_rate_high</th>\n",
       "      <th>defensive_work_rate_low</th>\n",
       "      <th>defensive_work_rate_medium</th>\n",
       "      <th>defensive_work_rate_o</th>\n",
       "      <th>defensive_work_rate_ormal</th>\n",
       "      <th>defensive_work_rate_tocky</th>\n",
       "    </tr>\n",
       "  </thead>\n",
       "  <tbody>\n",
       "    <tr>\n",
       "      <th>0</th>\n",
       "      <td>1</td>\n",
       "      <td>218353</td>\n",
       "      <td>505942</td>\n",
       "      <td>2016-02-18 00:00:00</td>\n",
       "      <td>71.0</td>\n",
       "      <td>49.0</td>\n",
       "      <td>44.0</td>\n",
       "      <td>71.0</td>\n",
       "      <td>61.0</td>\n",
       "      <td>44.0</td>\n",
       "      <td>...</td>\n",
       "      <td>0</td>\n",
       "      <td>0</td>\n",
       "      <td>0</td>\n",
       "      <td>0</td>\n",
       "      <td>0</td>\n",
       "      <td>0</td>\n",
       "      <td>1</td>\n",
       "      <td>0</td>\n",
       "      <td>0</td>\n",
       "      <td>0</td>\n",
       "    </tr>\n",
       "    <tr>\n",
       "      <th>1</th>\n",
       "      <td>2</td>\n",
       "      <td>218353</td>\n",
       "      <td>505942</td>\n",
       "      <td>2015-11-19 00:00:00</td>\n",
       "      <td>71.0</td>\n",
       "      <td>49.0</td>\n",
       "      <td>44.0</td>\n",
       "      <td>71.0</td>\n",
       "      <td>61.0</td>\n",
       "      <td>44.0</td>\n",
       "      <td>...</td>\n",
       "      <td>0</td>\n",
       "      <td>0</td>\n",
       "      <td>0</td>\n",
       "      <td>0</td>\n",
       "      <td>0</td>\n",
       "      <td>0</td>\n",
       "      <td>1</td>\n",
       "      <td>0</td>\n",
       "      <td>0</td>\n",
       "      <td>0</td>\n",
       "    </tr>\n",
       "    <tr>\n",
       "      <th>2</th>\n",
       "      <td>3</td>\n",
       "      <td>218353</td>\n",
       "      <td>505942</td>\n",
       "      <td>2015-09-21 00:00:00</td>\n",
       "      <td>66.0</td>\n",
       "      <td>49.0</td>\n",
       "      <td>44.0</td>\n",
       "      <td>71.0</td>\n",
       "      <td>61.0</td>\n",
       "      <td>44.0</td>\n",
       "      <td>...</td>\n",
       "      <td>0</td>\n",
       "      <td>0</td>\n",
       "      <td>0</td>\n",
       "      <td>0</td>\n",
       "      <td>0</td>\n",
       "      <td>0</td>\n",
       "      <td>1</td>\n",
       "      <td>0</td>\n",
       "      <td>0</td>\n",
       "      <td>0</td>\n",
       "    </tr>\n",
       "    <tr>\n",
       "      <th>3</th>\n",
       "      <td>4</td>\n",
       "      <td>218353</td>\n",
       "      <td>505942</td>\n",
       "      <td>2015-03-20 00:00:00</td>\n",
       "      <td>65.0</td>\n",
       "      <td>48.0</td>\n",
       "      <td>43.0</td>\n",
       "      <td>70.0</td>\n",
       "      <td>60.0</td>\n",
       "      <td>43.0</td>\n",
       "      <td>...</td>\n",
       "      <td>0</td>\n",
       "      <td>0</td>\n",
       "      <td>0</td>\n",
       "      <td>0</td>\n",
       "      <td>0</td>\n",
       "      <td>0</td>\n",
       "      <td>1</td>\n",
       "      <td>0</td>\n",
       "      <td>0</td>\n",
       "      <td>0</td>\n",
       "    </tr>\n",
       "    <tr>\n",
       "      <th>4</th>\n",
       "      <td>5</td>\n",
       "      <td>218353</td>\n",
       "      <td>505942</td>\n",
       "      <td>2007-02-22 00:00:00</td>\n",
       "      <td>65.0</td>\n",
       "      <td>48.0</td>\n",
       "      <td>43.0</td>\n",
       "      <td>70.0</td>\n",
       "      <td>60.0</td>\n",
       "      <td>43.0</td>\n",
       "      <td>...</td>\n",
       "      <td>0</td>\n",
       "      <td>0</td>\n",
       "      <td>0</td>\n",
       "      <td>0</td>\n",
       "      <td>0</td>\n",
       "      <td>0</td>\n",
       "      <td>1</td>\n",
       "      <td>0</td>\n",
       "      <td>0</td>\n",
       "      <td>0</td>\n",
       "    </tr>\n",
       "  </tbody>\n",
       "</table>\n",
       "<p>5 rows × 67 columns</p>\n",
       "</div>"
      ],
      "text/plain": [
       "   id  player_fifa_api_id  player_api_id                 date  potential  \\\n",
       "0   1              218353         505942  2016-02-18 00:00:00       71.0   \n",
       "1   2              218353         505942  2015-11-19 00:00:00       71.0   \n",
       "2   3              218353         505942  2015-09-21 00:00:00       66.0   \n",
       "3   4              218353         505942  2015-03-20 00:00:00       65.0   \n",
       "4   5              218353         505942  2007-02-22 00:00:00       65.0   \n",
       "\n",
       "   crossing  finishing  heading_accuracy  short_passing  volleys  ...  \\\n",
       "0      49.0       44.0              71.0           61.0     44.0  ...   \n",
       "1      49.0       44.0              71.0           61.0     44.0  ...   \n",
       "2      49.0       44.0              71.0           61.0     44.0  ...   \n",
       "3      48.0       43.0              70.0           60.0     43.0  ...   \n",
       "4      48.0       43.0              70.0           60.0     43.0  ...   \n",
       "\n",
       "   defensive_work_rate_9  defensive_work_rate__0  defensive_work_rate_ean  \\\n",
       "0                      0                       0                        0   \n",
       "1                      0                       0                        0   \n",
       "2                      0                       0                        0   \n",
       "3                      0                       0                        0   \n",
       "4                      0                       0                        0   \n",
       "\n",
       "   defensive_work_rate_es  defensive_work_rate_high  defensive_work_rate_low  \\\n",
       "0                       0                         0                        0   \n",
       "1                       0                         0                        0   \n",
       "2                       0                         0                        0   \n",
       "3                       0                         0                        0   \n",
       "4                       0                         0                        0   \n",
       "\n",
       "   defensive_work_rate_medium  defensive_work_rate_o  \\\n",
       "0                           1                      0   \n",
       "1                           1                      0   \n",
       "2                           1                      0   \n",
       "3                           1                      0   \n",
       "4                           1                      0   \n",
       "\n",
       "   defensive_work_rate_ormal  defensive_work_rate_tocky  \n",
       "0                          0                          0  \n",
       "1                          0                          0  \n",
       "2                          0                          0  \n",
       "3                          0                          0  \n",
       "4                          0                          0  \n",
       "\n",
       "[5 rows x 67 columns]"
      ]
     },
     "execution_count": 16,
     "metadata": {},
     "output_type": "execute_result"
    }
   ],
   "source": [
    "dummy_df = pd.get_dummies(df, columns=['preferred_foot', 'attacking_work_rate', 'defensive_work_rate'])\n",
    "dummy_df.head()"
   ]
  },
  {
   "cell_type": "code",
   "execution_count": 17,
   "metadata": {},
   "outputs": [],
   "source": [
    "X = dummy_df.drop(['id', 'date'], axis=1)"
   ]
  },
  {
   "cell_type": "markdown",
   "metadata": {},
   "source": [
    "Feature selection :"
   ]
  },
  {
   "cell_type": "markdown",
   "metadata": {},
   "source": [
    "As tree model doesn't gets affected by missing values present in data set. but feature selection by SelectFromModel can not be done on datasets that carries null value. Therefore, we should also perform imputation on dataset."
   ]
  },
  {
   "cell_type": "code",
   "execution_count": 18,
   "metadata": {},
   "outputs": [],
   "source": [
    "X_train, X_test, y_train, y_test = train_test_split(X, y, test_size=0.25, random_state=42)"
   ]
  },
  {
   "cell_type": "code",
   "execution_count": 19,
   "metadata": {},
   "outputs": [],
   "source": [
    "#imputing null value of each column with the mean of that column\n",
    "imput = SimpleImputer()   #Imputer()\n",
    "X_train = imput.fit_transform(X_train)\n",
    "X_test = imput.fit_transform(X_test)"
   ]
  },
  {
   "cell_type": "code",
   "execution_count": 20,
   "metadata": {},
   "outputs": [
    {
     "name": "stdout",
     "output_type": "stream",
     "text": [
      "[0.0112063  0.01328359 0.16840546 0.01479726 0.00693286 0.02923344\n",
      " 0.02684482 0.00141261 0.01633997 0.00142012 0.00089428 0.00336454\n",
      " 0.05596948 0.00311885 0.00745351 0.00146221 0.3133247  0.00111532\n",
      " 0.02715905 0.00230193 0.00448559 0.02142001 0.00503636 0.0047115\n",
      " 0.01690763 0.01669931 0.00246637 0.00140508 0.02284729 0.05204851\n",
      " 0.00592539 0.02880221 0.02403816 0.00703669 0.03812633 0.022119\n",
      " 0.00037242 0.         0.00078061 0.00141978 0.00046924 0.00049927\n",
      " 0.0007586  0.00086996 0.00040868 0.00098631 0.         0.\n",
      " 0.         0.00204254 0.00125616 0.         0.00173628 0.\n",
      " 0.0006331  0.         0.00087684 0.         0.         0.00092218\n",
      " 0.00059731 0.00364412 0.00161083 0.         0.        ]\n"
     ]
    }
   ],
   "source": [
    "#finding feature_importance for feature selection. from it we'll be able to decide threshold value\n",
    "model = XGBRegressor()\n",
    "model.fit(X_train, y_train)\n",
    "print(model.feature_importances_)"
   ]
  },
  {
   "cell_type": "code",
   "execution_count": 21,
   "metadata": {},
   "outputs": [
    {
     "data": {
      "text/plain": [
       "(137983, 19)"
      ]
     },
     "execution_count": 21,
     "metadata": {},
     "output_type": "execute_result"
    }
   ],
   "source": [
    "selection = SelectFromModel(model, threshold=0.01, prefit=True)\n",
    "\n",
    "select_X_train = selection.transform(X_train)\n",
    "select_X_test = selection.transform(X_test)\n",
    "select_X_train.shape"
   ]
  },
  {
   "cell_type": "markdown",
   "metadata": {},
   "source": [
    "Scaling the data:"
   ]
  },
  {
   "cell_type": "code",
   "execution_count": 22,
   "metadata": {},
   "outputs": [
    {
     "data": {
      "text/plain": [
       "array([[ 1.0567811 ,  2.90118168, -0.37370531, ..., -0.69862488,\n",
       "        -0.31949444, -0.49199125],\n",
       "       [ 0.83239093,  1.11023832, -0.67788964, ..., -0.25617622,\n",
       "        -0.25716519, -0.55033053],\n",
       "       [ 0.17077907,  1.07420333,  0.38675551, ..., -0.12976231,\n",
       "        -0.19483593, -0.55033053],\n",
       "       ...,\n",
       "       [-2.07758255, -0.8212941 ,  1.2993085 , ...,  0.31268635,\n",
       "         0.30379811,  0.26641949],\n",
       "       [ 0.44157109, -0.11639067,  0.99512417, ...,  0.37589331,\n",
       "         0.36612736,  0.32475878],\n",
       "       [ 0.22002412, -0.64891505,  1.755585  , ..., -0.69862488,\n",
       "        -0.50648221, -0.2586341 ]])"
      ]
     },
     "execution_count": 22,
     "metadata": {},
     "output_type": "execute_result"
    }
   ],
   "source": [
    "scalar = StandardScaler()\n",
    "x_scaled_train = scalar.fit_transform(select_X_train)\n",
    "x_scaled_train"
   ]
  },
  {
   "cell_type": "code",
   "execution_count": 23,
   "metadata": {},
   "outputs": [
    {
     "data": {
      "text/plain": [
       "array([[ 0.5825465 ,  0.37577743,  1.14364038, ..., -0.69951284,\n",
       "        -0.19548251, -0.08516627],\n",
       "       [ 0.7131656 ,  0.14588373, -0.22328168, ..., -0.63646818,\n",
       "        -0.19548251, -0.2013609 ],\n",
       "       [ 0.2307514 , -0.78242149, -0.52704214, ..., -0.51037885,\n",
       "        -0.00935998, -0.37565285],\n",
       "       ...,\n",
       "       [ 0.7233016 ,  0.76992259,  0.83987993, ..., -0.13211088,\n",
       "        -0.13344167, -0.2013609 ],\n",
       "       [ 0.71524098,  1.61776501,  0.6879997 , ..., -0.25820021,\n",
       "        -0.50568674, -0.31755554],\n",
       "       [ 0.90691696,  2.24229255, -1.74208398, ..., -0.25820021,\n",
       "        -0.38160505, -0.31755554]])"
      ]
     },
     "execution_count": 23,
     "metadata": {},
     "output_type": "execute_result"
    }
   ],
   "source": [
    "x_scaled_test = scalar.fit_transform(select_X_test)\n",
    "x_scaled_test"
   ]
  },
  {
   "cell_type": "markdown",
   "metadata": {},
   "source": [
    "### Training different models :\n",
    "### 1. Linear Regression :"
   ]
  },
  {
   "cell_type": "code",
   "execution_count": 24,
   "metadata": {},
   "outputs": [
    {
     "data": {
      "text/plain": [
       "LinearRegression()"
      ]
     },
     "execution_count": 24,
     "metadata": {},
     "output_type": "execute_result"
    }
   ],
   "source": [
    "linear_reg = LinearRegression()\n",
    "linear_reg.fit(x_scaled_train, y_train)"
   ]
  },
  {
   "cell_type": "code",
   "execution_count": 25,
   "metadata": {},
   "outputs": [
    {
     "data": {
      "text/plain": [
       "0.8487194680891929"
      ]
     },
     "execution_count": 25,
     "metadata": {},
     "output_type": "execute_result"
    }
   ],
   "source": [
    "linear_reg.score(x_scaled_test, y_test)"
   ]
  },
  {
   "cell_type": "markdown",
   "metadata": {},
   "source": [
    "### Hyperparameter Tuning:"
   ]
  },
  {
   "cell_type": "code",
   "execution_count": 26,
   "metadata": {},
   "outputs": [],
   "source": [
    "cv = ShuffleSplit(random_state=0)   #defining type of cross_validation(shuffle spliting)\n",
    "\n",
    "param_grid = {'n_jobs': [-1]}     #parameters for model tunning\n",
    "\n",
    "grid = GridSearchCV(linear_reg, param_grid=param_grid, cv=cv)"
   ]
  },
  {
   "cell_type": "code",
   "execution_count": 27,
   "metadata": {},
   "outputs": [
    {
     "data": {
      "text/plain": [
       "GridSearchCV(cv=ShuffleSplit(n_splits=10, random_state=0, test_size=None, train_size=None),\n",
       "             estimator=LinearRegression(), param_grid={'n_jobs': [-1]})"
      ]
     },
     "execution_count": 27,
     "metadata": {},
     "output_type": "execute_result"
    }
   ],
   "source": [
    "grid.fit(select_X_train, y_train) "
   ]
  },
  {
   "cell_type": "code",
   "execution_count": 28,
   "metadata": {},
   "outputs": [
    {
     "data": {
      "text/plain": [
       "{'n_jobs': -1}"
      ]
     },
     "execution_count": 28,
     "metadata": {},
     "output_type": "execute_result"
    }
   ],
   "source": [
    "grid.best_params_"
   ]
  },
  {
   "cell_type": "code",
   "execution_count": 29,
   "metadata": {},
   "outputs": [
    {
     "data": {
      "text/plain": [
       "LinearRegression(n_jobs=-1)"
      ]
     },
     "execution_count": 29,
     "metadata": {},
     "output_type": "execute_result"
    }
   ],
   "source": [
    "\n",
    "grid.best_estimator_"
   ]
  },
  {
   "cell_type": "code",
   "execution_count": 30,
   "metadata": {},
   "outputs": [
    {
     "data": {
      "text/plain": [
       "LinearRegression(n_jobs=-1)"
      ]
     },
     "execution_count": 30,
     "metadata": {},
     "output_type": "execute_result"
    }
   ],
   "source": [
    "new_linear_reg = LinearRegression(copy_X=True, fit_intercept=True, n_jobs=-1, normalize=False)\n",
    "new_linear_reg.fit(x_scaled_train, y_train)"
   ]
  },
  {
   "cell_type": "code",
   "execution_count": 31,
   "metadata": {},
   "outputs": [
    {
     "data": {
      "text/plain": [
       "0.8487194680891929"
      ]
     },
     "execution_count": 31,
     "metadata": {},
     "output_type": "execute_result"
    }
   ],
   "source": [
    "new_linear_reg.score(x_scaled_test, y_test)"
   ]
  },
  {
   "cell_type": "markdown",
   "metadata": {},
   "source": [
    "### 2. Decision Tree :"
   ]
  },
  {
   "cell_type": "code",
   "execution_count": 32,
   "metadata": {},
   "outputs": [
    {
     "data": {
      "text/plain": [
       "DecisionTreeRegressor(random_state=0)"
      ]
     },
     "execution_count": 32,
     "metadata": {},
     "output_type": "execute_result"
    }
   ],
   "source": [
    "decision_tree = DecisionTreeRegressor(criterion='mse', random_state=0)         #estimator\n",
    "decision_tree.fit(x_scaled_train, y_train)"
   ]
  },
  {
   "cell_type": "code",
   "execution_count": 33,
   "metadata": {},
   "outputs": [
    {
     "data": {
      "text/plain": [
       "0.9559434200536528"
      ]
     },
     "execution_count": 33,
     "metadata": {},
     "output_type": "execute_result"
    }
   ],
   "source": [
    "decision_tree.score(x_scaled_test, y_test)"
   ]
  },
  {
   "cell_type": "code",
   "execution_count": 34,
   "metadata": {},
   "outputs": [],
   "source": [
    "\n",
    "cv = ShuffleSplit(n_splits=10, random_state=42)        #cross validation\n",
    "\n",
    "param_grid = {'max_depth': [3, 5, 7, 9, 13],\n",
    "             'criterion': ['mse', 'friedman_mse']}\n",
    "\n",
    "grid = GridSearchCV(decision_tree, param_grid=param_grid, cv=cv)"
   ]
  },
  {
   "cell_type": "code",
   "execution_count": 35,
   "metadata": {},
   "outputs": [
    {
     "data": {
      "text/plain": [
       "GridSearchCV(cv=ShuffleSplit(n_splits=10, random_state=42, test_size=None, train_size=None),\n",
       "             estimator=DecisionTreeRegressor(random_state=0),\n",
       "             param_grid={'criterion': ['mse', 'friedman_mse'],\n",
       "                         'max_depth': [3, 5, 7, 9, 13]})"
      ]
     },
     "execution_count": 35,
     "metadata": {},
     "output_type": "execute_result"
    }
   ],
   "source": [
    "grid.fit(select_X_train, y_train)          #training"
   ]
  },
  {
   "cell_type": "code",
   "execution_count": 36,
   "metadata": {},
   "outputs": [
    {
     "data": {
      "text/plain": [
       "{'criterion': 'friedman_mse', 'max_depth': 13}"
      ]
     },
     "execution_count": 36,
     "metadata": {},
     "output_type": "execute_result"
    }
   ],
   "source": [
    "grid.best_params_"
   ]
  },
  {
   "cell_type": "code",
   "execution_count": 37,
   "metadata": {},
   "outputs": [
    {
     "data": {
      "text/plain": [
       "DecisionTreeRegressor(criterion='friedman_mse', max_depth=13, random_state=0)"
      ]
     },
     "execution_count": 37,
     "metadata": {},
     "output_type": "execute_result"
    }
   ],
   "source": [
    "grid.best_estimator_"
   ]
  },
  {
   "cell_type": "code",
   "execution_count": 38,
   "metadata": {},
   "outputs": [
    {
     "data": {
      "text/plain": [
       "DecisionTreeRegressor(criterion='friedman_mse', max_depth=13, random_state=0)"
      ]
     },
     "execution_count": 38,
     "metadata": {},
     "output_type": "execute_result"
    }
   ],
   "source": [
    "new_deci_tree = DecisionTreeRegressor(criterion='friedman_mse', max_depth=13,\n",
    "           max_features=None, max_leaf_nodes=None,\n",
    "           min_impurity_decrease=0.0, min_impurity_split=None,\n",
    "           min_samples_leaf=1, min_samples_split=2,\n",
    "           min_weight_fraction_leaf=0.0,random_state=0,\n",
    "           splitter='best')\n",
    "new_deci_tree.fit(x_scaled_train, y_train)"
   ]
  },
  {
   "cell_type": "code",
   "execution_count": 39,
   "metadata": {},
   "outputs": [
    {
     "data": {
      "text/plain": [
       "0.9278843292016608"
      ]
     },
     "execution_count": 39,
     "metadata": {},
     "output_type": "execute_result"
    }
   ],
   "source": [
    "new_deci_tree.score(x_scaled_test, y_test)"
   ]
  },
  {
   "cell_type": "markdown",
   "metadata": {},
   "source": [
    "### 3. Random Forest :"
   ]
  },
  {
   "cell_type": "code",
   "execution_count": 40,
   "metadata": {},
   "outputs": [
    {
     "data": {
      "text/plain": [
       "RandomForestRegressor(random_state=123)"
      ]
     },
     "execution_count": 40,
     "metadata": {},
     "output_type": "execute_result"
    }
   ],
   "source": [
    "rand_forest = RandomForestRegressor(random_state=123)\n",
    "rand_forest.fit(x_scaled_train, y_train)"
   ]
  },
  {
   "cell_type": "code",
   "execution_count": 41,
   "metadata": {},
   "outputs": [
    {
     "data": {
      "text/plain": [
       "0.9797116517014308"
      ]
     },
     "execution_count": 41,
     "metadata": {},
     "output_type": "execute_result"
    }
   ],
   "source": [
    "rand_forest.score(x_scaled_test, y_test)"
   ]
  },
  {
   "cell_type": "markdown",
   "metadata": {},
   "source": [
    "### Hyperparameter Tuning:"
   ]
  },
  {
   "cell_type": "code",
   "execution_count": 42,
   "metadata": {},
   "outputs": [],
   "source": [
    "cv = ShuffleSplit(test_size=0.2, random_state=0)\n",
    "\n",
    "param_grid = {'max_features':['sqrt', 'log2', 10],\n",
    "              'max_depth':[9, 11, 13]}                 \n",
    "\n",
    "grid = GridSearchCV(rand_forest, param_grid=param_grid, cv=cv)"
   ]
  },
  {
   "cell_type": "code",
   "execution_count": 43,
   "metadata": {},
   "outputs": [
    {
     "data": {
      "text/plain": [
       "GridSearchCV(cv=ShuffleSplit(n_splits=10, random_state=0, test_size=0.2, train_size=None),\n",
       "             estimator=RandomForestRegressor(random_state=123),\n",
       "             param_grid={'max_depth': [9, 11, 13],\n",
       "                         'max_features': ['sqrt', 'log2', 10]})"
      ]
     },
     "execution_count": 43,
     "metadata": {},
     "output_type": "execute_result"
    }
   ],
   "source": [
    "grid.fit(x_scaled_train, y_train) "
   ]
  },
  {
   "cell_type": "code",
   "execution_count": 44,
   "metadata": {},
   "outputs": [
    {
     "data": {
      "text/plain": [
       "RandomForestRegressor(max_depth=13, max_features=10, random_state=123)"
      ]
     },
     "execution_count": 44,
     "metadata": {},
     "output_type": "execute_result"
    }
   ],
   "source": [
    "grid.best_estimator_"
   ]
  },
  {
   "cell_type": "code",
   "execution_count": 45,
   "metadata": {},
   "outputs": [
    {
     "data": {
      "text/plain": [
       "RandomForestRegressor(max_depth=33, max_features=10, n_estimators=10, n_jobs=1,\n",
       "                      random_state=42)"
      ]
     },
     "execution_count": 45,
     "metadata": {},
     "output_type": "execute_result"
    }
   ],
   "source": [
    "new_rand_forest = RandomForestRegressor(bootstrap=True, criterion='mse', max_depth=33,\n",
    "           max_features=10, max_leaf_nodes=None, min_impurity_decrease=0.0,\n",
    "           min_impurity_split=None, min_samples_leaf=1,\n",
    "           min_samples_split=2, min_weight_fraction_leaf=0.0,\n",
    "           n_estimators=10, n_jobs=1, oob_score=False, random_state=42,\n",
    "           verbose=0, warm_start=False)\n",
    "new_rand_forest.fit(x_scaled_train, y_train)"
   ]
  },
  {
   "cell_type": "code",
   "execution_count": 46,
   "metadata": {},
   "outputs": [
    {
     "data": {
      "text/plain": [
       "0.9787384737336855"
      ]
     },
     "execution_count": 46,
     "metadata": {},
     "output_type": "execute_result"
    }
   ],
   "source": [
    "new_rand_forest.score(x_scaled_test, y_test)"
   ]
  },
  {
   "cell_type": "markdown",
   "metadata": {},
   "source": [
    "### 4. Xgboost regressor :"
   ]
  },
  {
   "cell_type": "code",
   "execution_count": 47,
   "metadata": {},
   "outputs": [
    {
     "data": {
      "text/plain": [
       "XGBRegressor(base_score=0.5, booster='gbtree', colsample_bylevel=1,\n",
       "             colsample_bynode=1, colsample_bytree=1, gamma=0, gpu_id=-1,\n",
       "             importance_type='gain', interaction_constraints='',\n",
       "             learning_rate=0.300000012, max_delta_step=0, max_depth=6,\n",
       "             min_child_weight=1, missing=nan, monotone_constraints='()',\n",
       "             n_estimators=100, n_jobs=12, num_parallel_tree=1, random_state=42,\n",
       "             reg_alpha=0, reg_lambda=1, scale_pos_weight=1, subsample=1,\n",
       "             tree_method='exact', validate_parameters=1, verbosity=None)"
      ]
     },
     "execution_count": 47,
     "metadata": {},
     "output_type": "execute_result"
    }
   ],
   "source": [
    "xgr = XGBRegressor(random_state=42)\n",
    "xgr.fit(x_scaled_train, y_train)"
   ]
  },
  {
   "cell_type": "code",
   "execution_count": 48,
   "metadata": {},
   "outputs": [
    {
     "data": {
      "text/plain": [
       "0.9612268302162874"
      ]
     },
     "execution_count": 48,
     "metadata": {},
     "output_type": "execute_result"
    }
   ],
   "source": [
    "xgr.score(x_scaled_test, y_test)"
   ]
  },
  {
   "cell_type": "markdown",
   "metadata": {},
   "source": [
    "### Hyperparameter Tuning:"
   ]
  },
  {
   "cell_type": "code",
   "execution_count": 49,
   "metadata": {},
   "outputs": [],
   "source": [
    "cv = ShuffleSplit(n_splits=10, random_state=0)\n",
    "\n",
    "param_grid = {'max_depth': [5, 7],\n",
    "              'learning_rate': [0.1, 0.3]}\n",
    "\n",
    "grid = GridSearchCV(xgr, param_grid=param_grid, cv=cv, n_jobs= -1)"
   ]
  },
  {
   "cell_type": "code",
   "execution_count": 50,
   "metadata": {},
   "outputs": [
    {
     "data": {
      "text/plain": [
       "GridSearchCV(cv=ShuffleSplit(n_splits=10, random_state=0, test_size=None, train_size=None),\n",
       "             estimator=XGBRegressor(base_score=0.5, booster='gbtree',\n",
       "                                    colsample_bylevel=1, colsample_bynode=1,\n",
       "                                    colsample_bytree=1, gamma=0, gpu_id=-1,\n",
       "                                    importance_type='gain',\n",
       "                                    interaction_constraints='',\n",
       "                                    learning_rate=0.300000012, max_delta_step=0,\n",
       "                                    max_depth=6, min_child_weight=1,\n",
       "                                    missing=nan, monotone_constraints='()',\n",
       "                                    n_estimators=100, n_jobs=12,\n",
       "                                    num_parallel_tree=1, random_state=42,\n",
       "                                    reg_alpha=0, reg_lambda=1,\n",
       "                                    scale_pos_weight=1, subsample=1,\n",
       "                                    tree_method='exact', validate_parameters=1,\n",
       "                                    verbosity=None),\n",
       "             n_jobs=-1,\n",
       "             param_grid={'learning_rate': [0.1, 0.3], 'max_depth': [5, 7]})"
      ]
     },
     "execution_count": 50,
     "metadata": {},
     "output_type": "execute_result"
    }
   ],
   "source": [
    "grid.fit(x_scaled_train, y_train)"
   ]
  },
  {
   "cell_type": "code",
   "execution_count": 51,
   "metadata": {},
   "outputs": [
    {
     "data": {
      "text/plain": [
       "XGBRegressor(base_score=0.5, booster='gbtree', colsample_bylevel=1,\n",
       "             colsample_bynode=1, colsample_bytree=1, gamma=0, gpu_id=-1,\n",
       "             importance_type='gain', interaction_constraints='',\n",
       "             learning_rate=0.3, max_delta_step=0, max_depth=7,\n",
       "             min_child_weight=1, missing=nan, monotone_constraints='()',\n",
       "             n_estimators=100, n_jobs=12, num_parallel_tree=1, random_state=42,\n",
       "             reg_alpha=0, reg_lambda=1, scale_pos_weight=1, subsample=1,\n",
       "             tree_method='exact', validate_parameters=1, verbosity=None)"
      ]
     },
     "execution_count": 51,
     "metadata": {},
     "output_type": "execute_result"
    }
   ],
   "source": [
    "grid.best_estimator_"
   ]
  },
  {
   "cell_type": "code",
   "execution_count": 52,
   "metadata": {},
   "outputs": [
    {
     "name": "stdout",
     "output_type": "stream",
     "text": [
      "[09:56:57] WARNING: C:/Users/Administrator/workspace/xgboost-win64_release_1.3.0/src/objective/regression_obj.cu:170: reg:linear is now deprecated in favor of reg:squarederror.\n"
     ]
    },
    {
     "data": {
      "text/plain": [
       "XGBRegressor(base_score=0.5, booster='gbtree', colsample_bylevel=1,\n",
       "             colsample_bynode=1, colsample_bytree=1, gamma=0, gpu_id=-1,\n",
       "             importance_type='gain', interaction_constraints='',\n",
       "             learning_rate=0.3, max_delta_step=0, max_depth=7,\n",
       "             min_child_weight=1, missing=None, monotone_constraints='()',\n",
       "             n_estimators=100, n_jobs=1, nthread=1, num_parallel_tree=1,\n",
       "             objective='reg:linear', random_state=42, reg_alpha=0, reg_lambda=1,\n",
       "             scale_pos_weight=1, seed=42, silent=None, subsample=1,\n",
       "             tree_method='exact', validate_parameters=1, verbosity=1)"
      ]
     },
     "execution_count": 52,
     "metadata": {},
     "output_type": "execute_result"
    }
   ],
   "source": [
    "new_xgr = XGBRegressor(base_score=0.5, booster='gbtree', colsample_bylevel=1,\n",
    "             colsample_bynode=1, colsample_bytree=1, gamma=0,\n",
    "             importance_type='gain', learning_rate=0.3, max_delta_step=0,\n",
    "             max_depth=7, min_child_weight=1, missing=None, n_estimators=100,\n",
    "             n_jobs=1, nthread=None, objective='reg:linear', random_state=42,\n",
    "             reg_alpha=0, reg_lambda=1, scale_pos_weight=1, seed=None,\n",
    "             silent=None, subsample=1, verbosity=1)\n",
    "new_xgr.fit(x_scaled_train, y_train)"
   ]
  },
  {
   "cell_type": "code",
   "execution_count": 53,
   "metadata": {},
   "outputs": [
    {
     "data": {
      "text/plain": [
       "0.9652303415162796"
      ]
     },
     "execution_count": 53,
     "metadata": {},
     "output_type": "execute_result"
    }
   ],
   "source": [
    "new_xgr.score(x_scaled_test, y_test)"
   ]
  },
  {
   "cell_type": "code",
   "execution_count": 54,
   "metadata": {},
   "outputs": [
    {
     "name": "stdout",
     "output_type": "stream",
     "text": [
      "Linear Regressor accuracy is 0.8487194680891929\n",
      "DecisionTree Regressor accuracy is 0.9278843292016608\n",
      "RandomForest regressor accuracy is 0.9787384737336855\n",
      "XGBoost regressor accuracy is 0.9652303415162796\n"
     ]
    }
   ],
   "source": [
    "print(\"\"\"Linear Regressor accuracy is {lin}\n",
    "DecisionTree Regressor accuracy is {Dec}\n",
    "RandomForest regressor accuracy is {ran}\n",
    "XGBoost regressor accuracy is {xgb}\"\"\".format(lin=new_linear_reg.score(x_scaled_test, y_test),\n",
    "                                                       Dec=new_deci_tree.score(x_scaled_test, y_test),\n",
    "                                                       ran=new_rand_forest.score(x_scaled_test, y_test),\n",
    "                                                       xgb=new_xgr.score(x_scaled_test, y_test)))"
   ]
  },
  {
   "cell_type": "markdown",
   "metadata": {},
   "source": [
    "By accuracy comparision performed above we can say hear that Random Forest regressor gives better result than any other model. and it can predict the target function with approx 98% accuracy."
   ]
  },
  {
   "cell_type": "code",
   "execution_count": null,
   "metadata": {},
   "outputs": [],
   "source": []
  }
 ],
 "metadata": {
  "kernelspec": {
   "display_name": "Python 3",
   "language": "python",
   "name": "python3"
  },
  "language_info": {
   "codemirror_mode": {
    "name": "ipython",
    "version": 3
   },
   "file_extension": ".py",
   "mimetype": "text/x-python",
   "name": "python",
   "nbconvert_exporter": "python",
   "pygments_lexer": "ipython3",
   "version": "3.8.3"
  }
 },
 "nbformat": 4,
 "nbformat_minor": 4
}
