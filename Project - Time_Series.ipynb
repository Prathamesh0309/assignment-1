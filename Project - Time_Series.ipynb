{
 "cells": [
  {
   "cell_type": "markdown",
   "metadata": {},
   "source": [
    "### Problem Statement: Pick up the following stocks and generate forecasts accordingly Stocks:\n",
    "\n",
    "1. NASDAQ.AAPL\n",
    "2. NASDAQ.ADP\n",
    "3. NASDAQ.CBOE\n",
    "4. NASDAQ.CSCO\n",
    "5. NASDAQ.EBAY"
   ]
  },
  {
   "cell_type": "code",
   "execution_count": 3,
   "metadata": {},
   "outputs": [],
   "source": [
    "import pandas as pd\n",
    "import datetime\n",
    "import matplotlib.pyplot as plt\n",
    "%matplotlib inline"
   ]
  },
  {
   "cell_type": "code",
   "execution_count": 4,
   "metadata": {},
   "outputs": [],
   "source": [
    "df = pd.read_csv(\"data_stocks.csv\")"
   ]
  },
  {
   "cell_type": "code",
   "execution_count": 5,
   "metadata": {},
   "outputs": [
    {
     "data": {
      "text/html": [
       "<div>\n",
       "<style scoped>\n",
       "    .dataframe tbody tr th:only-of-type {\n",
       "        vertical-align: middle;\n",
       "    }\n",
       "\n",
       "    .dataframe tbody tr th {\n",
       "        vertical-align: top;\n",
       "    }\n",
       "\n",
       "    .dataframe thead th {\n",
       "        text-align: right;\n",
       "    }\n",
       "</style>\n",
       "<table border=\"1\" class=\"dataframe\">\n",
       "  <thead>\n",
       "    <tr style=\"text-align: right;\">\n",
       "      <th></th>\n",
       "      <th>DATE</th>\n",
       "      <th>SP500</th>\n",
       "      <th>NASDAQ.AAL</th>\n",
       "      <th>NASDAQ.AAPL</th>\n",
       "      <th>NASDAQ.ADBE</th>\n",
       "      <th>NASDAQ.ADI</th>\n",
       "      <th>NASDAQ.ADP</th>\n",
       "      <th>NASDAQ.ADSK</th>\n",
       "      <th>NASDAQ.AKAM</th>\n",
       "      <th>NASDAQ.ALXN</th>\n",
       "      <th>...</th>\n",
       "      <th>NYSE.WYN</th>\n",
       "      <th>NYSE.XEC</th>\n",
       "      <th>NYSE.XEL</th>\n",
       "      <th>NYSE.XL</th>\n",
       "      <th>NYSE.XOM</th>\n",
       "      <th>NYSE.XRX</th>\n",
       "      <th>NYSE.XYL</th>\n",
       "      <th>NYSE.YUM</th>\n",
       "      <th>NYSE.ZBH</th>\n",
       "      <th>NYSE.ZTS</th>\n",
       "    </tr>\n",
       "  </thead>\n",
       "  <tbody>\n",
       "    <tr>\n",
       "      <th>0</th>\n",
       "      <td>1491226200</td>\n",
       "      <td>2363.6101</td>\n",
       "      <td>42.3300</td>\n",
       "      <td>143.6800</td>\n",
       "      <td>129.6300</td>\n",
       "      <td>82.040</td>\n",
       "      <td>102.2300</td>\n",
       "      <td>85.2200</td>\n",
       "      <td>59.760</td>\n",
       "      <td>121.52</td>\n",
       "      <td>...</td>\n",
       "      <td>84.370</td>\n",
       "      <td>119.035</td>\n",
       "      <td>44.40</td>\n",
       "      <td>39.88</td>\n",
       "      <td>82.03</td>\n",
       "      <td>7.36</td>\n",
       "      <td>50.22</td>\n",
       "      <td>63.86</td>\n",
       "      <td>122.000</td>\n",
       "      <td>53.350</td>\n",
       "    </tr>\n",
       "    <tr>\n",
       "      <th>1</th>\n",
       "      <td>1491226260</td>\n",
       "      <td>2364.1001</td>\n",
       "      <td>42.3600</td>\n",
       "      <td>143.7000</td>\n",
       "      <td>130.3200</td>\n",
       "      <td>82.080</td>\n",
       "      <td>102.1400</td>\n",
       "      <td>85.6500</td>\n",
       "      <td>59.840</td>\n",
       "      <td>121.48</td>\n",
       "      <td>...</td>\n",
       "      <td>84.370</td>\n",
       "      <td>119.035</td>\n",
       "      <td>44.11</td>\n",
       "      <td>39.88</td>\n",
       "      <td>82.03</td>\n",
       "      <td>7.38</td>\n",
       "      <td>50.22</td>\n",
       "      <td>63.74</td>\n",
       "      <td>121.770</td>\n",
       "      <td>53.350</td>\n",
       "    </tr>\n",
       "    <tr>\n",
       "      <th>2</th>\n",
       "      <td>1491226320</td>\n",
       "      <td>2362.6799</td>\n",
       "      <td>42.3100</td>\n",
       "      <td>143.6901</td>\n",
       "      <td>130.2250</td>\n",
       "      <td>82.030</td>\n",
       "      <td>102.2125</td>\n",
       "      <td>85.5100</td>\n",
       "      <td>59.795</td>\n",
       "      <td>121.93</td>\n",
       "      <td>...</td>\n",
       "      <td>84.585</td>\n",
       "      <td>119.260</td>\n",
       "      <td>44.09</td>\n",
       "      <td>39.98</td>\n",
       "      <td>82.02</td>\n",
       "      <td>7.36</td>\n",
       "      <td>50.12</td>\n",
       "      <td>63.75</td>\n",
       "      <td>121.700</td>\n",
       "      <td>53.365</td>\n",
       "    </tr>\n",
       "    <tr>\n",
       "      <th>3</th>\n",
       "      <td>1491226380</td>\n",
       "      <td>2364.3101</td>\n",
       "      <td>42.3700</td>\n",
       "      <td>143.6400</td>\n",
       "      <td>130.0729</td>\n",
       "      <td>82.000</td>\n",
       "      <td>102.1400</td>\n",
       "      <td>85.4872</td>\n",
       "      <td>59.620</td>\n",
       "      <td>121.44</td>\n",
       "      <td>...</td>\n",
       "      <td>84.460</td>\n",
       "      <td>119.260</td>\n",
       "      <td>44.25</td>\n",
       "      <td>39.99</td>\n",
       "      <td>82.02</td>\n",
       "      <td>7.35</td>\n",
       "      <td>50.16</td>\n",
       "      <td>63.88</td>\n",
       "      <td>121.700</td>\n",
       "      <td>53.380</td>\n",
       "    </tr>\n",
       "    <tr>\n",
       "      <th>4</th>\n",
       "      <td>1491226440</td>\n",
       "      <td>2364.8501</td>\n",
       "      <td>42.5378</td>\n",
       "      <td>143.6600</td>\n",
       "      <td>129.8800</td>\n",
       "      <td>82.035</td>\n",
       "      <td>102.0600</td>\n",
       "      <td>85.7001</td>\n",
       "      <td>59.620</td>\n",
       "      <td>121.60</td>\n",
       "      <td>...</td>\n",
       "      <td>84.470</td>\n",
       "      <td>119.610</td>\n",
       "      <td>44.11</td>\n",
       "      <td>39.96</td>\n",
       "      <td>82.03</td>\n",
       "      <td>7.36</td>\n",
       "      <td>50.20</td>\n",
       "      <td>63.91</td>\n",
       "      <td>121.695</td>\n",
       "      <td>53.240</td>\n",
       "    </tr>\n",
       "  </tbody>\n",
       "</table>\n",
       "<p>5 rows × 502 columns</p>\n",
       "</div>"
      ],
      "text/plain": [
       "         DATE      SP500  NASDAQ.AAL  NASDAQ.AAPL  NASDAQ.ADBE  NASDAQ.ADI  \\\n",
       "0  1491226200  2363.6101     42.3300     143.6800     129.6300      82.040   \n",
       "1  1491226260  2364.1001     42.3600     143.7000     130.3200      82.080   \n",
       "2  1491226320  2362.6799     42.3100     143.6901     130.2250      82.030   \n",
       "3  1491226380  2364.3101     42.3700     143.6400     130.0729      82.000   \n",
       "4  1491226440  2364.8501     42.5378     143.6600     129.8800      82.035   \n",
       "\n",
       "   NASDAQ.ADP  NASDAQ.ADSK  NASDAQ.AKAM  NASDAQ.ALXN  ...  NYSE.WYN  NYSE.XEC  \\\n",
       "0    102.2300      85.2200       59.760       121.52  ...    84.370   119.035   \n",
       "1    102.1400      85.6500       59.840       121.48  ...    84.370   119.035   \n",
       "2    102.2125      85.5100       59.795       121.93  ...    84.585   119.260   \n",
       "3    102.1400      85.4872       59.620       121.44  ...    84.460   119.260   \n",
       "4    102.0600      85.7001       59.620       121.60  ...    84.470   119.610   \n",
       "\n",
       "   NYSE.XEL  NYSE.XL  NYSE.XOM  NYSE.XRX  NYSE.XYL  NYSE.YUM  NYSE.ZBH  \\\n",
       "0     44.40    39.88     82.03      7.36     50.22     63.86   122.000   \n",
       "1     44.11    39.88     82.03      7.38     50.22     63.74   121.770   \n",
       "2     44.09    39.98     82.02      7.36     50.12     63.75   121.700   \n",
       "3     44.25    39.99     82.02      7.35     50.16     63.88   121.700   \n",
       "4     44.11    39.96     82.03      7.36     50.20     63.91   121.695   \n",
       "\n",
       "   NYSE.ZTS  \n",
       "0    53.350  \n",
       "1    53.350  \n",
       "2    53.365  \n",
       "3    53.380  \n",
       "4    53.240  \n",
       "\n",
       "[5 rows x 502 columns]"
      ]
     },
     "execution_count": 5,
     "metadata": {},
     "output_type": "execute_result"
    }
   ],
   "source": [
    "df.head()"
   ]
  },
  {
   "cell_type": "code",
   "execution_count": 6,
   "metadata": {},
   "outputs": [
    {
     "data": {
      "text/plain": [
       "dtype('int64')"
      ]
     },
     "execution_count": 6,
     "metadata": {},
     "output_type": "execute_result"
    }
   ],
   "source": [
    "df['DATE'].dtypes"
   ]
  },
  {
   "cell_type": "code",
   "execution_count": 7,
   "metadata": {},
   "outputs": [],
   "source": [
    "df['DATE'] = pd.to_datetime(df['DATE'], unit='s')"
   ]
  },
  {
   "cell_type": "code",
   "execution_count": 8,
   "metadata": {},
   "outputs": [
    {
     "data": {
      "text/plain": [
       "41261   2017-08-31 19:56:00\n",
       "41262   2017-08-31 19:57:00\n",
       "41263   2017-08-31 19:58:00\n",
       "41264   2017-08-31 19:59:00\n",
       "41265   2017-08-31 20:00:00\n",
       "Name: DATE, dtype: datetime64[ns]"
      ]
     },
     "execution_count": 8,
     "metadata": {},
     "output_type": "execute_result"
    }
   ],
   "source": [
    "df['DATE'].tail()"
   ]
  },
  {
   "cell_type": "code",
   "execution_count": 9,
   "metadata": {},
   "outputs": [],
   "source": [
    "df.index = df['DATE']"
   ]
  },
  {
   "cell_type": "code",
   "execution_count": 10,
   "metadata": {},
   "outputs": [],
   "source": [
    "df.drop('DATE',axis = 1,inplace=True)"
   ]
  },
  {
   "cell_type": "code",
   "execution_count": 11,
   "metadata": {},
   "outputs": [
    {
     "data": {
      "text/html": [
       "<div>\n",
       "<style scoped>\n",
       "    .dataframe tbody tr th:only-of-type {\n",
       "        vertical-align: middle;\n",
       "    }\n",
       "\n",
       "    .dataframe tbody tr th {\n",
       "        vertical-align: top;\n",
       "    }\n",
       "\n",
       "    .dataframe thead th {\n",
       "        text-align: right;\n",
       "    }\n",
       "</style>\n",
       "<table border=\"1\" class=\"dataframe\">\n",
       "  <thead>\n",
       "    <tr style=\"text-align: right;\">\n",
       "      <th></th>\n",
       "      <th>SP500</th>\n",
       "      <th>NASDAQ.AAL</th>\n",
       "      <th>NASDAQ.AAPL</th>\n",
       "      <th>NASDAQ.ADBE</th>\n",
       "      <th>NASDAQ.ADI</th>\n",
       "      <th>NASDAQ.ADP</th>\n",
       "      <th>NASDAQ.ADSK</th>\n",
       "      <th>NASDAQ.AKAM</th>\n",
       "      <th>NASDAQ.ALXN</th>\n",
       "      <th>NASDAQ.AMAT</th>\n",
       "      <th>...</th>\n",
       "      <th>NYSE.WYN</th>\n",
       "      <th>NYSE.XEC</th>\n",
       "      <th>NYSE.XEL</th>\n",
       "      <th>NYSE.XL</th>\n",
       "      <th>NYSE.XOM</th>\n",
       "      <th>NYSE.XRX</th>\n",
       "      <th>NYSE.XYL</th>\n",
       "      <th>NYSE.YUM</th>\n",
       "      <th>NYSE.ZBH</th>\n",
       "      <th>NYSE.ZTS</th>\n",
       "    </tr>\n",
       "    <tr>\n",
       "      <th>DATE</th>\n",
       "      <th></th>\n",
       "      <th></th>\n",
       "      <th></th>\n",
       "      <th></th>\n",
       "      <th></th>\n",
       "      <th></th>\n",
       "      <th></th>\n",
       "      <th></th>\n",
       "      <th></th>\n",
       "      <th></th>\n",
       "      <th></th>\n",
       "      <th></th>\n",
       "      <th></th>\n",
       "      <th></th>\n",
       "      <th></th>\n",
       "      <th></th>\n",
       "      <th></th>\n",
       "      <th></th>\n",
       "      <th></th>\n",
       "      <th></th>\n",
       "      <th></th>\n",
       "    </tr>\n",
       "  </thead>\n",
       "  <tbody>\n",
       "    <tr>\n",
       "      <th>2017-08-31 19:56:00</th>\n",
       "      <td>2472.22</td>\n",
       "      <td>44.72</td>\n",
       "      <td>164.11</td>\n",
       "      <td>155.090</td>\n",
       "      <td>83.67</td>\n",
       "      <td>106.565</td>\n",
       "      <td>114.49</td>\n",
       "      <td>47.150</td>\n",
       "      <td>142.425</td>\n",
       "      <td>45.130</td>\n",
       "      <td>...</td>\n",
       "      <td>99.675</td>\n",
       "      <td>99.53</td>\n",
       "      <td>49.485</td>\n",
       "      <td>40.955</td>\n",
       "      <td>76.360</td>\n",
       "      <td>32.285</td>\n",
       "      <td>62.110</td>\n",
       "      <td>76.88</td>\n",
       "      <td>114.31</td>\n",
       "      <td>62.7250</td>\n",
       "    </tr>\n",
       "    <tr>\n",
       "      <th>2017-08-31 19:57:00</th>\n",
       "      <td>2471.77</td>\n",
       "      <td>44.73</td>\n",
       "      <td>164.12</td>\n",
       "      <td>155.160</td>\n",
       "      <td>83.65</td>\n",
       "      <td>106.590</td>\n",
       "      <td>114.52</td>\n",
       "      <td>47.150</td>\n",
       "      <td>142.450</td>\n",
       "      <td>45.130</td>\n",
       "      <td>...</td>\n",
       "      <td>99.730</td>\n",
       "      <td>99.63</td>\n",
       "      <td>49.480</td>\n",
       "      <td>40.960</td>\n",
       "      <td>76.370</td>\n",
       "      <td>32.295</td>\n",
       "      <td>62.100</td>\n",
       "      <td>76.90</td>\n",
       "      <td>114.33</td>\n",
       "      <td>62.7100</td>\n",
       "    </tr>\n",
       "    <tr>\n",
       "      <th>2017-08-31 19:58:00</th>\n",
       "      <td>2470.03</td>\n",
       "      <td>44.74</td>\n",
       "      <td>164.01</td>\n",
       "      <td>155.065</td>\n",
       "      <td>83.62</td>\n",
       "      <td>106.520</td>\n",
       "      <td>114.47</td>\n",
       "      <td>47.150</td>\n",
       "      <td>142.330</td>\n",
       "      <td>45.135</td>\n",
       "      <td>...</td>\n",
       "      <td>99.735</td>\n",
       "      <td>99.64</td>\n",
       "      <td>49.495</td>\n",
       "      <td>40.940</td>\n",
       "      <td>76.315</td>\n",
       "      <td>32.290</td>\n",
       "      <td>62.090</td>\n",
       "      <td>76.88</td>\n",
       "      <td>114.31</td>\n",
       "      <td>62.6850</td>\n",
       "    </tr>\n",
       "    <tr>\n",
       "      <th>2017-08-31 19:59:00</th>\n",
       "      <td>2471.49</td>\n",
       "      <td>44.71</td>\n",
       "      <td>163.88</td>\n",
       "      <td>154.960</td>\n",
       "      <td>83.58</td>\n",
       "      <td>106.400</td>\n",
       "      <td>114.33</td>\n",
       "      <td>47.135</td>\n",
       "      <td>142.170</td>\n",
       "      <td>45.065</td>\n",
       "      <td>...</td>\n",
       "      <td>99.700</td>\n",
       "      <td>99.63</td>\n",
       "      <td>49.485</td>\n",
       "      <td>40.925</td>\n",
       "      <td>76.300</td>\n",
       "      <td>32.275</td>\n",
       "      <td>62.075</td>\n",
       "      <td>76.83</td>\n",
       "      <td>114.23</td>\n",
       "      <td>62.6301</td>\n",
       "    </tr>\n",
       "    <tr>\n",
       "      <th>2017-08-31 20:00:00</th>\n",
       "      <td>2471.49</td>\n",
       "      <td>44.74</td>\n",
       "      <td>163.98</td>\n",
       "      <td>155.160</td>\n",
       "      <td>83.69</td>\n",
       "      <td>106.470</td>\n",
       "      <td>114.46</td>\n",
       "      <td>47.150</td>\n",
       "      <td>142.410</td>\n",
       "      <td>45.120</td>\n",
       "      <td>...</td>\n",
       "      <td>99.670</td>\n",
       "      <td>99.64</td>\n",
       "      <td>49.490</td>\n",
       "      <td>40.940</td>\n",
       "      <td>76.320</td>\n",
       "      <td>32.270</td>\n",
       "      <td>62.070</td>\n",
       "      <td>76.81</td>\n",
       "      <td>114.28</td>\n",
       "      <td>62.6800</td>\n",
       "    </tr>\n",
       "  </tbody>\n",
       "</table>\n",
       "<p>5 rows × 501 columns</p>\n",
       "</div>"
      ],
      "text/plain": [
       "                       SP500  NASDAQ.AAL  NASDAQ.AAPL  NASDAQ.ADBE  \\\n",
       "DATE                                                                 \n",
       "2017-08-31 19:56:00  2472.22       44.72       164.11      155.090   \n",
       "2017-08-31 19:57:00  2471.77       44.73       164.12      155.160   \n",
       "2017-08-31 19:58:00  2470.03       44.74       164.01      155.065   \n",
       "2017-08-31 19:59:00  2471.49       44.71       163.88      154.960   \n",
       "2017-08-31 20:00:00  2471.49       44.74       163.98      155.160   \n",
       "\n",
       "                     NASDAQ.ADI  NASDAQ.ADP  NASDAQ.ADSK  NASDAQ.AKAM  \\\n",
       "DATE                                                                    \n",
       "2017-08-31 19:56:00       83.67     106.565       114.49       47.150   \n",
       "2017-08-31 19:57:00       83.65     106.590       114.52       47.150   \n",
       "2017-08-31 19:58:00       83.62     106.520       114.47       47.150   \n",
       "2017-08-31 19:59:00       83.58     106.400       114.33       47.135   \n",
       "2017-08-31 20:00:00       83.69     106.470       114.46       47.150   \n",
       "\n",
       "                     NASDAQ.ALXN  NASDAQ.AMAT  ...  NYSE.WYN  NYSE.XEC  \\\n",
       "DATE                                           ...                       \n",
       "2017-08-31 19:56:00      142.425       45.130  ...    99.675     99.53   \n",
       "2017-08-31 19:57:00      142.450       45.130  ...    99.730     99.63   \n",
       "2017-08-31 19:58:00      142.330       45.135  ...    99.735     99.64   \n",
       "2017-08-31 19:59:00      142.170       45.065  ...    99.700     99.63   \n",
       "2017-08-31 20:00:00      142.410       45.120  ...    99.670     99.64   \n",
       "\n",
       "                     NYSE.XEL  NYSE.XL  NYSE.XOM  NYSE.XRX  NYSE.XYL  \\\n",
       "DATE                                                                   \n",
       "2017-08-31 19:56:00    49.485   40.955    76.360    32.285    62.110   \n",
       "2017-08-31 19:57:00    49.480   40.960    76.370    32.295    62.100   \n",
       "2017-08-31 19:58:00    49.495   40.940    76.315    32.290    62.090   \n",
       "2017-08-31 19:59:00    49.485   40.925    76.300    32.275    62.075   \n",
       "2017-08-31 20:00:00    49.490   40.940    76.320    32.270    62.070   \n",
       "\n",
       "                     NYSE.YUM  NYSE.ZBH  NYSE.ZTS  \n",
       "DATE                                               \n",
       "2017-08-31 19:56:00     76.88    114.31   62.7250  \n",
       "2017-08-31 19:57:00     76.90    114.33   62.7100  \n",
       "2017-08-31 19:58:00     76.88    114.31   62.6850  \n",
       "2017-08-31 19:59:00     76.83    114.23   62.6301  \n",
       "2017-08-31 20:00:00     76.81    114.28   62.6800  \n",
       "\n",
       "[5 rows x 501 columns]"
      ]
     },
     "execution_count": 11,
     "metadata": {},
     "output_type": "execute_result"
    }
   ],
   "source": [
    "df.tail()"
   ]
  },
  {
   "cell_type": "code",
   "execution_count": 12,
   "metadata": {},
   "outputs": [],
   "source": [
    "df_AAPL = df[['NASDAQ.AAPL']].copy()"
   ]
  },
  {
   "cell_type": "code",
   "execution_count": 13,
   "metadata": {},
   "outputs": [
    {
     "data": {
      "text/html": [
       "<div>\n",
       "<style scoped>\n",
       "    .dataframe tbody tr th:only-of-type {\n",
       "        vertical-align: middle;\n",
       "    }\n",
       "\n",
       "    .dataframe tbody tr th {\n",
       "        vertical-align: top;\n",
       "    }\n",
       "\n",
       "    .dataframe thead th {\n",
       "        text-align: right;\n",
       "    }\n",
       "</style>\n",
       "<table border=\"1\" class=\"dataframe\">\n",
       "  <thead>\n",
       "    <tr style=\"text-align: right;\">\n",
       "      <th></th>\n",
       "      <th>NASDAQ.AAPL</th>\n",
       "    </tr>\n",
       "    <tr>\n",
       "      <th>DATE</th>\n",
       "      <th></th>\n",
       "    </tr>\n",
       "  </thead>\n",
       "  <tbody>\n",
       "    <tr>\n",
       "      <th>2017-08-31 19:56:00</th>\n",
       "      <td>164.11</td>\n",
       "    </tr>\n",
       "    <tr>\n",
       "      <th>2017-08-31 19:57:00</th>\n",
       "      <td>164.12</td>\n",
       "    </tr>\n",
       "    <tr>\n",
       "      <th>2017-08-31 19:58:00</th>\n",
       "      <td>164.01</td>\n",
       "    </tr>\n",
       "    <tr>\n",
       "      <th>2017-08-31 19:59:00</th>\n",
       "      <td>163.88</td>\n",
       "    </tr>\n",
       "    <tr>\n",
       "      <th>2017-08-31 20:00:00</th>\n",
       "      <td>163.98</td>\n",
       "    </tr>\n",
       "  </tbody>\n",
       "</table>\n",
       "</div>"
      ],
      "text/plain": [
       "                     NASDAQ.AAPL\n",
       "DATE                            \n",
       "2017-08-31 19:56:00       164.11\n",
       "2017-08-31 19:57:00       164.12\n",
       "2017-08-31 19:58:00       164.01\n",
       "2017-08-31 19:59:00       163.88\n",
       "2017-08-31 20:00:00       163.98"
      ]
     },
     "execution_count": 13,
     "metadata": {},
     "output_type": "execute_result"
    }
   ],
   "source": [
    "df_AAPL.tail()"
   ]
  },
  {
   "cell_type": "code",
   "execution_count": 14,
   "metadata": {},
   "outputs": [
    {
     "data": {
      "text/plain": [
       "NASDAQ.AAPL    41266\n",
       "dtype: int64"
      ]
     },
     "execution_count": 14,
     "metadata": {},
     "output_type": "execute_result"
    }
   ],
   "source": [
    "df_AAPL.count()"
   ]
  },
  {
   "cell_type": "code",
   "execution_count": 15,
   "metadata": {},
   "outputs": [
    {
     "data": {
      "text/plain": [
       "<matplotlib.axes._subplots.AxesSubplot at 0x1a84d2ee250>"
      ]
     },
     "execution_count": 15,
     "metadata": {},
     "output_type": "execute_result"
    },
    {
     "data": {
      "image/png": "[encoded data removed]",
      "text/plain": [
       "<Figure size 432x288 with 1 Axes>"
      ]
     },
     "metadata": {
      "needs_background": "light"
     },
     "output_type": "display_data"
    }
   ],
   "source": [
    "df_AAPL.plot()"
   ]
  },
  {
   "cell_type": "markdown",
   "metadata": {},
   "source": [
    "Stationary means mean,variance and covariance is constant over periods.\n"
   ]
  },
  {
   "cell_type": "code",
   "execution_count": 16,
   "metadata": {},
   "outputs": [
    {
     "data": {
      "image/png": "[encoded data removed]",
      "text/plain": [
       "<Figure size 432x288 with 1 Axes>"
      ]
     },
     "execution_count": 16,
     "metadata": {},
     "output_type": "execute_result"
    },
    {
     "data": {
      "image/png": "[encoded data removed]",
      "text/plain": [
       "<Figure size 432x288 with 1 Axes>"
      ]
     },
     "metadata": {
      "needs_background": "light"
     },
     "output_type": "display_data"
    }
   ],
   "source": [
    "from statsmodels.graphics.tsaplots import plot_acf\n",
    "plot_acf(df_AAPL)"
   ]
  },
  {
   "cell_type": "markdown",
   "metadata": {},
   "source": [
    "### Converting series to stationary"
   ]
  },
  {
   "cell_type": "code",
   "execution_count": 17,
   "metadata": {},
   "outputs": [
    {
     "data": {
      "text/html": [
       "<div>\n",
       "<style scoped>\n",
       "    .dataframe tbody tr th:only-of-type {\n",
       "        vertical-align: middle;\n",
       "    }\n",
       "\n",
       "    .dataframe tbody tr th {\n",
       "        vertical-align: top;\n",
       "    }\n",
       "\n",
       "    .dataframe thead th {\n",
       "        text-align: right;\n",
       "    }\n",
       "</style>\n",
       "<table border=\"1\" class=\"dataframe\">\n",
       "  <thead>\n",
       "    <tr style=\"text-align: right;\">\n",
       "      <th></th>\n",
       "      <th>NASDAQ.AAPL</th>\n",
       "    </tr>\n",
       "    <tr>\n",
       "      <th>DATE</th>\n",
       "      <th></th>\n",
       "    </tr>\n",
       "  </thead>\n",
       "  <tbody>\n",
       "    <tr>\n",
       "      <th>2017-04-03 13:30:00</th>\n",
       "      <td>NaN</td>\n",
       "    </tr>\n",
       "    <tr>\n",
       "      <th>2017-04-03 13:31:00</th>\n",
       "      <td>143.6800</td>\n",
       "    </tr>\n",
       "    <tr>\n",
       "      <th>2017-04-03 13:32:00</th>\n",
       "      <td>143.7000</td>\n",
       "    </tr>\n",
       "    <tr>\n",
       "      <th>2017-04-03 13:33:00</th>\n",
       "      <td>143.6901</td>\n",
       "    </tr>\n",
       "    <tr>\n",
       "      <th>2017-04-03 13:34:00</th>\n",
       "      <td>143.6400</td>\n",
       "    </tr>\n",
       "    <tr>\n",
       "      <th>...</th>\n",
       "      <td>...</td>\n",
       "    </tr>\n",
       "    <tr>\n",
       "      <th>2017-08-31 19:56:00</th>\n",
       "      <td>164.1400</td>\n",
       "    </tr>\n",
       "    <tr>\n",
       "      <th>2017-08-31 19:57:00</th>\n",
       "      <td>164.1100</td>\n",
       "    </tr>\n",
       "    <tr>\n",
       "      <th>2017-08-31 19:58:00</th>\n",
       "      <td>164.1200</td>\n",
       "    </tr>\n",
       "    <tr>\n",
       "      <th>2017-08-31 19:59:00</th>\n",
       "      <td>164.0100</td>\n",
       "    </tr>\n",
       "    <tr>\n",
       "      <th>2017-08-31 20:00:00</th>\n",
       "      <td>163.8800</td>\n",
       "    </tr>\n",
       "  </tbody>\n",
       "</table>\n",
       "<p>41266 rows × 1 columns</p>\n",
       "</div>"
      ],
      "text/plain": [
       "                     NASDAQ.AAPL\n",
       "DATE                            \n",
       "2017-04-03 13:30:00          NaN\n",
       "2017-04-03 13:31:00     143.6800\n",
       "2017-04-03 13:32:00     143.7000\n",
       "2017-04-03 13:33:00     143.6901\n",
       "2017-04-03 13:34:00     143.6400\n",
       "...                          ...\n",
       "2017-08-31 19:56:00     164.1400\n",
       "2017-08-31 19:57:00     164.1100\n",
       "2017-08-31 19:58:00     164.1200\n",
       "2017-08-31 19:59:00     164.0100\n",
       "2017-08-31 20:00:00     163.8800\n",
       "\n",
       "[41266 rows x 1 columns]"
      ]
     },
     "execution_count": 17,
     "metadata": {},
     "output_type": "execute_result"
    }
   ],
   "source": [
    "df_AAPL.shift(1)"
   ]
  },
  {
   "cell_type": "code",
   "execution_count": 18,
   "metadata": {},
   "outputs": [
    {
     "name": "stdout",
     "output_type": "stream",
     "text": [
      "28886\n",
      "12380\n"
     ]
    }
   ],
   "source": [
    "X = df_AAPL.values\n",
    "train = X[0:28886] # 27 data as train data\n",
    "test = X[28886:] # 9 data as test data\n",
    "print(train.size)\n",
    "print(test.size)\n",
    "predictions = []"
   ]
  },
  {
   "cell_type": "markdown",
   "metadata": {},
   "source": [
    "### ARIMA model"
   ]
  },
  {
   "cell_type": "code",
   "execution_count": 19,
   "metadata": {},
   "outputs": [],
   "source": [
    "from statsmodels.tsa.arima_model import ARIMA"
   ]
  },
  {
   "cell_type": "code",
   "execution_count": 20,
   "metadata": {},
   "outputs": [],
   "source": [
    "import itertools\n",
    "p=d=q=range(0,6)\n",
    "pdq=list(itertools.product(p,d,q))"
   ]
  },
  {
   "cell_type": "code",
   "execution_count": 21,
   "metadata": {},
   "outputs": [
    {
     "name": "stdout",
     "output_type": "stream",
     "text": [
      "(0, 0, 0) 170326.9720446082\n",
      "(0, 0, 1) 131018.03599865618\n",
      "(0, 0, 2) 95780.67244459348\n",
      "(0, 0, 3) 67525.1896251644\n",
      "(0, 0, 4) 45787.34709203331\n",
      "(0, 1, 0) -64708.71200636144\n",
      "(0, 1, 1) -64706.877315341044\n",
      "(0, 1, 2) -64718.28609667123\n",
      "(0, 1, 3) -64719.67999909261\n",
      "(0, 1, 4) -64724.74650243459\n",
      "(0, 1, 5) -64723.27395757103\n",
      "(0, 2, 0) -44617.132207470175\n",
      "(0, 2, 1) -64693.194501259204\n",
      "(0, 2, 2) -64681.21428747648\n",
      "(0, 2, 3) -64690.97933176796\n",
      "(0, 2, 4) -64689.394332416196\n",
      "(0, 2, 5) -64708.59922348797\n",
      "(1, 0, 0) -64703.10601224229\n",
      "(1, 0, 1) -64701.259964849625\n",
      "(1, 0, 2) -64712.567383982416\n",
      "(1, 0, 3) -64714.01381858843\n",
      "(1, 0, 4) -64719.00741341416\n",
      "(1, 0, 5) -64717.5164734954\n",
      "(1, 1, 0) -64706.87029558887\n",
      "(1, 1, 1) -64709.61143489172\n",
      "(1, 1, 2) -64725.38695947568\n",
      "(1, 1, 3) -64723.39492533506\n",
      "(1, 1, 4) -64724.05657066636\n",
      "(1, 1, 5) -64722.0941234785\n",
      "(1, 2, 0) -52566.60024359108\n",
      "(1, 2, 1) -64686.65823427787\n",
      "(1, 2, 2) -64694.127457692535\n",
      "(1, 2, 3) -64689.772509436574\n",
      "(1, 2, 4) -64699.29431677151\n",
      "(1, 2, 5) -64698.31007326867\n",
      "(2, 0, 0) -64701.253450928925\n",
      "(2, 0, 1) -64709.05736471896\n",
      "(2, 0, 2) -64719.706395915506\n",
      "(2, 0, 3) -64717.71697970459\n",
      "(2, 0, 4) -64716.799465574266\n",
      "(2, 0, 5) -64715.50400579022\n",
      "(2, 1, 0) -64717.93086809873\n",
      "(2, 1, 1) -64725.40319962149\n",
      "(2, 1, 2) -64723.409872302625\n",
      "(2, 1, 3) -64722.46182681124\n",
      "(2, 1, 4) -64722.41976686996\n",
      "(2, 1, 5) -64721.119621063306\n",
      "(2, 2, 0) -56350.17877202357\n",
      "(2, 2, 1) -64659.769528425255\n",
      "(2, 2, 2) -64677.50202969396\n",
      "(2, 2, 3) -64691.421808678206\n",
      "(2, 2, 4) -64685.884806218135\n",
      "(2, 2, 5) -64693.64638349878\n",
      "(3, 0, 0) -64712.21547328512\n",
      "(3, 0, 1) -64719.72556142922\n",
      "(3, 0, 2) -64717.73653452203\n",
      "(3, 0, 3) -64716.71698561471\n",
      "(3, 0, 4) -64716.655012168165\n",
      "(3, 0, 5) -64715.34064600512\n",
      "(3, 1, 0) -64719.31896994311\n",
      "(3, 1, 1) -64723.40583169593\n",
      "(3, 1, 2) -64722.54804892528\n",
      "(3, 1, 3) -64730.2349857512\n",
      "(3, 1, 4) -64747.05560622284\n",
      "(3, 1, 5) -64726.605845069906\n",
      "(3, 2, 0) -58063.139915743566\n",
      "(3, 2, 1) -64689.623032595686\n",
      "(3, 2, 2) -64694.71277678873\n",
      "(3, 2, 3) -64683.667873434184\n",
      "(3, 2, 4) -64690.81206895881\n",
      "(3, 2, 5) -64691.41559632782\n",
      "(4, 0, 0) -64713.65383401941\n",
      "(4, 0, 1) -64717.72973985583\n",
      "(4, 0, 2) -64716.80280783682\n",
      "(4, 0, 3) -64724.47922644322\n",
      "(4, 0, 4) -64739.63903693837\n",
      "(4, 0, 5) -64736.72517507328\n",
      "(4, 1, 0) -64724.01865458586\n",
      "(4, 1, 1) -64723.510894262276\n",
      "(4, 1, 2) -64722.38263331032\n",
      "(4, 1, 3) -64733.81297747402\n",
      "(4, 1, 4) -64744.94423038651\n",
      "(4, 1, 5) -64742.96547455281\n",
      "(4, 2, 0) -59269.3685006656\n",
      "(4, 2, 1) -64707.70641827701\n",
      "(4, 2, 2) -64639.3154629417\n",
      "(4, 2, 3) -64710.878933703425\n",
      "(4, 2, 4) -64688.36309094001\n",
      "(4, 2, 5) -64685.986844786894\n",
      "(5, 0, 0) -64718.283594546345\n",
      "(5, 0, 1) -64716.7328891865\n",
      "(5, 0, 2) -64716.6186029173\n",
      "(5, 0, 3) -64740.94530583086\n",
      "(5, 0, 4) -64732.23762709112\n",
      "(5, 0, 5) -64737.19959396249\n",
      "(5, 1, 0) -64722.57419426054\n",
      "(5, 1, 1) -64721.56022772704\n",
      "(5, 1, 2) -64721.03844225574\n",
      "(5, 1, 3) -64726.3196981247\n",
      "(5, 1, 4) -64742.96668032692\n",
      "(5, 1, 5) -64733.56622250423\n",
      "(5, 2, 0) -60006.91481506759\n",
      "(5, 2, 1) -64633.40319851217\n",
      "(5, 2, 2) -64615.81862369871\n",
      "(5, 2, 3) -64634.53573248339\n",
      "(5, 2, 4) -64645.89304425153\n",
      "(5, 2, 5) -64672.11527546939\n"
     ]
    }
   ],
   "source": [
    "import warnings\n",
    "warnings.filterwarnings('ignore')\n",
    "for param in pdq:\n",
    "    try:\n",
    "        model_arima = ARIMA(train, order=param)\n",
    "        model_arima_fit = model_arima.fit()\n",
    "        print(param,model_arima_fit.aic)\n",
    "    except:\n",
    "        continue"
   ]
  },
  {
   "cell_type": "code",
   "execution_count": 22,
   "metadata": {},
   "outputs": [
    {
     "name": "stdout",
     "output_type": "stream",
     "text": [
      "-64744.94423038651\n"
     ]
    }
   ],
   "source": [
    "#p,d,q \n",
    "#p -> Periods taken for auto regressive model\n",
    "#d -> Integrated order, difference\n",
    "#q -> Periods in moving average model\n",
    "model_arima = ARIMA(train, order=(4,1,4))\n",
    "model_arima_fit = model_arima.fit()\n",
    "print(model_arima_fit.aic)"
   ]
  },
  {
   "cell_type": "code",
   "execution_count": 23,
   "metadata": {},
   "outputs": [
    {
     "data": {
      "text/plain": [
       "array([150.61361655, 150.61508198, 150.614859  , ..., 153.58412627,\n",
       "       153.5843662 , 153.58460614])"
      ]
     },
     "execution_count": 23,
     "metadata": {},
     "output_type": "execute_result"
    }
   ],
   "source": [
    "predictions = model_arima_fit.forecast(steps=12380)[0]\n",
    "predictions"
   ]
  },
  {
   "cell_type": "code",
   "execution_count": 24,
   "metadata": {},
   "outputs": [
    {
     "data": {
      "text/plain": [
       "[<matplotlib.lines.Line2D at 0x1a84f91ac40>]"
      ]
     },
     "execution_count": 24,
     "metadata": {},
     "output_type": "execute_result"
    },
    {
     "data": {
      "image/png": "[encoded data removed]",
      "text/plain": [
       "<Figure size 432x288 with 1 Axes>"
      ]
     },
     "metadata": {
      "needs_background": "light"
     },
     "output_type": "display_data"
    }
   ],
   "source": [
    "plt.plot(test)\n",
    "plt.plot(predictions, color='red')"
   ]
  },
  {
   "cell_type": "code",
   "execution_count": 25,
   "metadata": {},
   "outputs": [
    {
     "data": {
      "text/plain": [
       "37.55089145498725"
      ]
     },
     "execution_count": 25,
     "metadata": {},
     "output_type": "execute_result"
    }
   ],
   "source": [
    "from sklearn.metrics import mean_squared_error\n",
    "mean_squared_error(test,predictions)"
   ]
  },
  {
   "cell_type": "markdown",
   "metadata": {},
   "source": [
    "The above forecasting done for NASDAQ.AAPL. Similar can be done for other stocks."
   ]
  },
  {
   "cell_type": "code",
   "execution_count": null,
   "metadata": {},
   "outputs": [],
   "source": []
  }
 ],
 "metadata": {
  "kernelspec": {
   "display_name": "Python 3",
   "language": "python",
   "name": "python3"
  },
  "language_info": {
   "codemirror_mode": {
    "name": "ipython",
    "version": 3
   },
   "file_extension": ".py",
   "mimetype": "text/x-python",
   "name": "python",
   "nbconvert_exporter": "python",
   "pygments_lexer": "ipython3",
   "version": "3.8.3"
  }
 },
 "nbformat": 4,
 "nbformat_minor": 4
}
