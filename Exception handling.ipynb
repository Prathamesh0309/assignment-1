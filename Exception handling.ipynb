{
 "cells": [
  {
   "cell_type": "markdown",
   "metadata": {},
   "source": [
    "# 1. Write a function to compute 5/0 and use try/except to catch the exceptions."
   ]
  },
  {
   "cell_type": "code",
   "execution_count": 1,
   "metadata": {},
   "outputs": [
    {
     "name": "stdout",
     "output_type": "stream",
     "text": [
      "Enter the number: 5\n",
      "The number cannot be divided by zero\n",
      "End of try/except block\n"
     ]
    }
   ],
   "source": [
    "def divide():\n",
    "    try:\n",
    "        x = int(input(\"Enter the number: \"))\n",
    "        y = x/0\n",
    "    except:\n",
    "        print(\"The number cannot be divided by zero\")\n",
    "    finally:\n",
    "        print(\"End of try/except block\")\n",
    "\n",
    "divide()"
   ]
  },
  {
   "cell_type": "markdown",
   "metadata": {},
   "source": [
    "# 2. Implement a Python program to generate all sentences where subject is in [\"Americans\", \"Indians\"] and verb is in [\"Play\", \"watch\"] and the object is in [\"Baseball\",\"cricket\"]."
   ]
  },
  {
   "cell_type": "code",
   "execution_count": 6,
   "metadata": {},
   "outputs": [
    {
     "name": "stdout",
     "output_type": "stream",
     "text": [
      " Americans  play  Baseball.\n",
      " Americans  play  Cricket.\n",
      " Americans  watch  Baseball.\n",
      " Americans  watch  Cricket.\n",
      " Indians  play  Baseball.\n",
      " Indians  play  Cricket.\n",
      " Indians  watch  Baseball.\n",
      " Indians  watch  Cricket.\n"
     ]
    }
   ],
   "source": [
    "subjects=[\" Americans \",\" Indians \"]\n",
    "verbs=[\" play \",\" watch \"]\n",
    "objects=[\" Baseball.\",\" Cricket.\"]\n",
    "\n",
    "result = [(a+b+c) for a in subjects for b in verbs for c in objects]\n",
    "print(*result, sep = \"\\n\")"
   ]
  }
 ],
 "metadata": {
  "kernelspec": {
   "display_name": "Python 3",
   "language": "python",
   "name": "python3"
  },
  "language_info": {
   "codemirror_mode": {
    "name": "ipython",
    "version": 3
   },
   "file_extension": ".py",
   "mimetype": "text/x-python",
   "name": "python",
   "nbconvert_exporter": "python",
   "pygments_lexer": "ipython3",
   "version": "3.8.3"
  }
 },
 "nbformat": 4,
 "nbformat_minor": 4
}
